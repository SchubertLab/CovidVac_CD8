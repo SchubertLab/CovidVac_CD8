{
 "cells": [
  {
   "cell_type": "code",
   "execution_count": null,
   "id": "6ae1067b",
   "metadata": {},
   "outputs": [],
   "source": [
    "%load_ext autoreload"
   ]
  },
  {
   "cell_type": "code",
   "execution_count": null,
   "id": "b5a3cde8",
   "metadata": {
    "scrolled": false
   },
   "outputs": [],
   "source": [
    "import warnings\n",
    "warnings.simplefilter(action='ignore', category=FutureWarning)\n",
    "\n",
    "import os\n",
    "\n",
    "import scanpy as sc\n",
    "import scirpy as ir\n",
    "import anndata as ann\n",
    "import numpy as np\n",
    "import pandas as pd\n",
    "import seaborn as sb\n",
    "import decoupler as dc\n",
    "from tqdm import tqdm\n",
    "import math\n",
    "from scipy import stats, sparse\n",
    "\n",
    "import matplotlib as mpl\n",
    "import matplotlib.pyplot as plt\n",
    "import matplotlib.colors as clrs\n",
    "\n",
    "from matplotlib import rcParams\n",
    "import matplotlib.gridspec as gridspec"
   ]
  },
  {
   "cell_type": "code",
   "execution_count": null,
   "id": "a2b24426",
   "metadata": {},
   "outputs": [],
   "source": [
    "%autoreload 2\n",
    "import sys\n",
    "sys.path.append('..')\n",
    "import utils.visualisation as utils_vis\n",
    "import utils.representation as utils_rep"
   ]
  },
  {
   "cell_type": "code",
   "execution_count": null,
   "id": "43dd3d10",
   "metadata": {},
   "outputs": [],
   "source": [
    "path_figs = '../../figures/dextramer/'\n",
    "\n",
    "sc.settings.set_figure_params(dpi=600)\n",
    "sc._settings.ScanpyConfig(figdir=path_figs)\n",
    "sc.settings.verbosity = 3\n",
    "sc.set_figure_params(vector_friendly=True, color_map='viridis', transparent=True)\n",
    "sb.set_style('whitegrid')\n",
    "sc._settings.settings._vector_friendly=False\n",
    "\n",
    "colormap = 'flare'\n",
    "binding_mode = 'binding_ct'\n",
    "dpi = 600"
   ]
  },
  {
   "cell_type": "code",
   "execution_count": null,
   "id": "c64de35a",
   "metadata": {},
   "outputs": [],
   "source": [
    "adata = sc.read('../../data/dextramer/02_dex_annotated_cd8.h5ad')\n",
    "adata.uns['log1p']['base'] = None"
   ]
  },
  {
   "cell_type": "code",
   "execution_count": null,
   "id": "533fff36",
   "metadata": {},
   "outputs": [],
   "source": [
    "path_figs = f'../../figures/dextramer/{adata.uns[\"celltype\"]}'"
   ]
  },
  {
   "cell_type": "code",
   "execution_count": null,
   "id": "ed3d9c7f",
   "metadata": {},
   "outputs": [],
   "source": [
    "epitopes = adata.uns['epitopes']\n",
    "cite_ids = adata.uns['cite_ids']\n",
    "custom_cite_ids = adata.uns['custom_cite_ids']\n",
    "cite_ids_full = cite_ids.tolist() + custom_cite_ids.tolist()"
   ]
  },
  {
   "cell_type": "code",
   "execution_count": null,
   "id": "d9cd68f6",
   "metadata": {},
   "outputs": [],
   "source": [
    "binding_mode = 'binding_ct'\n",
    "time_order = ['P1', 'S1', 'S2', 'S3', 'T1', 'T2', 'T3', 'X3']\n",
    "time_order_wo_X = ['P1', 'S1', 'S2', 'S3', 'T1', 'T2', 'T3']\n",
    "cell = adata.uns['celltype']"
   ]
  },
  {
   "cell_type": "code",
   "execution_count": null,
   "id": "9205df57",
   "metadata": {},
   "outputs": [],
   "source": [
    "leiden_dpt_order = adata.obs.groupby('leiden_CD8')['dpt_pseudotime'].mean().sort_values().index.tolist()\n",
    "leiden_dpt_order_wo11 = leiden_dpt_order.copy()\n",
    "leiden_dpt_order_wo11.remove('11')"
   ]
  },
  {
   "cell_type": "code",
   "execution_count": null,
   "id": "4c433372",
   "metadata": {},
   "outputs": [],
   "source": [
    "leiden_order_tmp = leiden_dpt_order.copy()\n",
    "for el in ['11', '12', '7', '9']:\n",
    "    leiden_order_tmp.remove(el)\n",
    "leiden_order_tmp"
   ]
  },
  {
   "cell_type": "code",
   "execution_count": null,
   "id": "7e2a7e69",
   "metadata": {},
   "outputs": [],
   "source": [
    "new_cts = ['9130.0', '11251.0', '15599.0', '18755.0', '19327.0', '20205.0']"
   ]
  },
  {
   "cell_type": "code",
   "execution_count": null,
   "id": "cc55b490",
   "metadata": {
    "scrolled": true
   },
   "outputs": [],
   "source": [
    "sc.pl.umap(adata, color='leiden_CD8')\n",
    "colors_leiden = dict(zip(adata.obs['leiden_CD8'].value_counts().index, adata.uns['leiden_CD8_colors']))\n",
    "colors_leiden"
   ]
  },
  {
   "cell_type": "code",
   "execution_count": null,
   "id": "855478dd",
   "metadata": {},
   "outputs": [],
   "source": []
  },
  {
   "cell_type": "code",
   "execution_count": null,
   "id": "50f9277c",
   "metadata": {},
   "outputs": [],
   "source": [
    "adata[adata.obs['clone_id'].isin(['41.0', '5546.0', '1701.0', '16112.0', '2495.0'])].obs[['clone_id', 'donor', 'time', 'binding_ct']]"
   ]
  },
  {
   "cell_type": "code",
   "execution_count": null,
   "id": "30213079",
   "metadata": {},
   "outputs": [],
   "source": []
  },
  {
   "cell_type": "markdown",
   "id": "ed57f7c8",
   "metadata": {},
   "source": [
    "## Detection Pattern"
   ]
  },
  {
   "cell_type": "code",
   "execution_count": null,
   "id": "fcc638c9",
   "metadata": {},
   "outputs": [],
   "source": [
    "mapping_a04 = {\n",
    "    '7808.0': 'early',\n",
    "    '6319.0': 'early',\n",
    "    '772.0': 'persisting',\n",
    "    '646.0': 'early',\n",
    "    '201.0': 'early',\n",
    "    '297.0': 'persisting',\n",
    "    '7100.0': 'persisting',\n",
    "    '6012.0': 'persisting',\n",
    "    '5918.0': 'persisting',\n",
    "    '99.0': 'persisting',\n",
    "    '225.0': 'persisting',\n",
    "    '718.0': 'persisting',\n",
    "    '832.0': 'persisting',\n",
    "    '11949.0': 'late',\n",
    "    '11195.0': 'late',\n",
    "    '11155.0': 'late',\n",
    "    '10748.0': 'late',\n",
    "    '841.0': 'early',\n",
    "    '11085.0': 'late',\n",
    "    '10623.0': 'non-reactive',\n",
    "}"
   ]
  },
  {
   "cell_type": "code",
   "execution_count": null,
   "id": "91833824",
   "metadata": {},
   "outputs": [],
   "source": [
    "mapping_a08 ={\n",
    "    '6844.0': 'early',\n",
    "    '7287.0': 'early',\n",
    "    '7094.0': 'early',\n",
    "    '5458.0': 'persisting',\n",
    "    '6265.0': 'early',\n",
    "    '4160.0': 'early',\n",
    "    '3936.0': 'persisting',\n",
    "    '7156.0': 'persisting',\n",
    "    '6808.0': 'persisting',\n",
    "    '6254.0': 'persisting',\n",
    "    '6928.0': 'persisting',\n",
    "    '5170.0': 'persisting',\n",
    "    '5469.0': 'persisting',\n",
    "    '6302.0': 'persisting',\n",
    "    '7734.0': 'persisting',\n",
    "    '5251.0': 'persisting',\n",
    "    '8915.0': 'early',\n",
    "    '8483.0': 'early',\n",
    "    '8395.0': 'early',\n",
    "    '8172.0': 'early',\n",
    "    '11870.0': 'late',\n",
    "    '11751.0': 'late',\n",
    "    '11439.0': 'late',\n",
    "    '11151.0': 'late',\n",
    "    '10832.0': 'persisting',\n",
    "    '11192.0': 'not-expressed',\n",
    "}"
   ]
  },
  {
   "cell_type": "code",
   "execution_count": null,
   "id": "5e7a050b",
   "metadata": {},
   "outputs": [],
   "source": [
    "mapping_a15 = {\n",
    "    '3155.0': 'early',\n",
    "    '2722.0': 'early',\n",
    "    '1735.0': 'early',\n",
    "    '7894.0': 'early',\n",
    "    '6993.0': 'early',\n",
    "    '6755.0': 'early',\n",
    "    '6743.0': 'persisting',\n",
    "    '509.0': 'early',\n",
    "    '386.0': 'early',\n",
    "    '277.0': 'early',\n",
    "    '545.0': 'early',\n",
    "    '763.0': 'early',\n",
    "    '66.0': 'early',\n",
    "    '4386.0': 'early',\n",
    "    '317.0': 'persisting',\n",
    "    '4545.0': 'persisting',\n",
    "    '7911.0': 'persisting',\n",
    "    '7758.0': 'persisting',\n",
    "    '6548.0': 'persisting',\n",
    "    '5245.0': 'persisting',\n",
    "    '684.0': 'persisting',\n",
    "    '489.0': 'persisting',\n",
    "    '11964.0': 'late',\n",
    "    '11253.0': 'late',\n",
    "    '10813.0': 'late',\n",
    "    '772.0': 'late',\n",
    "    '5576.0': 'early',\n",
    "    '4350.0': 'non-reactive',\n",
    "    '2123.0': 'non-reactive',\n",
    "    '5405.0': 'not-expressed',\n",
    "}"
   ]
  },
  {
   "cell_type": "code",
   "execution_count": null,
   "id": "af54b5c1",
   "metadata": {},
   "outputs": [],
   "source": [
    "mapping_a29 = {\n",
    "    '52.0': 'early',\n",
    "    '323.0': 'early',\n",
    "    '691.0': 'early',\n",
    "    '6467.0': 'early',\n",
    "    '6579.0': 'early',\n",
    "    '6688.0': 'early',\n",
    "    '7411.0': 'early',\n",
    "    '3695.0': 'persisting',\n",
    "    '5766.0': 'early',\n",
    "    '6140.0': 'early',\n",
    "    '8191.0': 'early',\n",
    "    '9825.0': 'early',\n",
    "    '9961.0': 'persisting',\n",
    "    '10749.0': 'late',\n",
    "    '11445.0': 'late',\n",
    "    '9973.0': 'non-reactive',\n",
    "}"
   ]
  },
  {
   "cell_type": "code",
   "execution_count": null,
   "id": "737bf156",
   "metadata": {},
   "outputs": [],
   "source": [
    "mapping_detection = {\n",
    "    'A04': mapping_a04,\n",
    "    'A08': mapping_a08,\n",
    "    'A15': mapping_a15,\n",
    "    'A29': mapping_a29,\n",
    "}"
   ]
  },
  {
   "cell_type": "code",
   "execution_count": null,
   "id": "b6de5844",
   "metadata": {},
   "outputs": [],
   "source": [
    "adata.obs['detection_pattern'] = np.nan\n",
    "for d, mapping in mapping_detection.items():\n",
    "    adata.obs.loc[adata.obs['donor']==d, 'detection_pattern'] = adata.obs.loc[adata.obs['donor']==d, 'clone_id'].map(mapping)\n",
    "    assert adata[(adata.obs['donor']==d) & (adata.obs['detection_pattern'].notna())].obs['clone_id'].nunique() == len(mapping), d\n",
    "adata.obs['detection_pattern'].value_counts()"
   ]
  },
  {
   "cell_type": "markdown",
   "id": "dc38a828",
   "metadata": {},
   "source": [
    "## Table avidity"
   ]
  },
  {
   "cell_type": "code",
   "execution_count": null,
   "id": "a40620b1",
   "metadata": {},
   "outputs": [],
   "source": [
    "columns = ['clone_id', 'score_IFNg_EC50', 'level_IFNg_EC50', 'score_mTRBC_EC50', 'level_mTRBC_EC50']"
   ]
  },
  {
   "cell_type": "code",
   "execution_count": null,
   "id": "9440395c",
   "metadata": {},
   "outputs": [],
   "source": [
    "adata[adata.obs['clone_id']=='20205.0'].obs['donor'].value_counts()"
   ]
  },
  {
   "cell_type": "code",
   "execution_count": null,
   "id": "2c471ce9",
   "metadata": {},
   "outputs": [],
   "source": [
    "df_avidity_a04 = [\n",
    "    [646, 0.000000124, 'high', 0.000000212, 'high'],\n",
    "    [772, 0.0000001347, 'high', 0.0000002227, 'high'],\n",
    "    [99, 0.0000001562, 'high', 0.000002787, 'mid'],\n",
    "    [201, 0.0000001677, 'high', 0.0000002081, 'high'],\n",
    "    [718, 0.0000001723, 'high', 0.000002601, 'mid'],\n",
    "    [6012, 0.0000001848, 'high', 0.000002883, 'mid'],\n",
    "    [841, 0.0000001976, 'high', 0.000001636, 'mid'],\n",
    "    [10748, 0.0000002415, 'mid', 0.000002038, 'mid'],\n",
    "    [11195, 0.0000003633, 'mid', 0.000001246, 'mid'],\n",
    "    [6319, 0.0000003878, 'mid', 0.000002359, 'mid'],\n",
    "    [11155, 0.0000004235, 'mid', 0.000003125, 'mid'],\n",
    "    [5918, 0.0000004403, 'mid', 0.0000008157, 'mid'],\n",
    "    [11949, 0.0000004541, 'mid', 0.000002241, 'mid'],\n",
    "    [7100, 0.0000004854, 'mid', 0.000002326, 'mid'],\n",
    "    [7808, 0.0000005036, 'mid', 0.000004321, 'mid'],\n",
    "    [832, 0.0000005102, 'mid', 0.000001061, 'mid'],\n",
    "    [225, 0.0000006018, 'mid', 0.000002991, 'mid'],\n",
    "    [11085, 0.0000008714, 'low', 0.0000008348, 'mid'],\n",
    "    [297, 0.000001532, 'low', 0.00001274, 'low'],\n",
    "]\n",
    "df_avidity_a04 = pd.DataFrame(df_avidity_a04, columns=columns).set_index('clone_id')\n",
    "df_avidity_a04.index = df_avidity_a04.index.astype(str) + '.0'\n",
    "assert np.sum(df_avidity_a04.index.isin(adata[adata.obs['donor']=='A04'].obs['clone_id']))==len(df_avidity_a04)\n",
    "df_avidity_a04"
   ]
  },
  {
   "cell_type": "code",
   "execution_count": null,
   "id": "f6c7b86d",
   "metadata": {},
   "outputs": [],
   "source": [
    "df_avidity_a08 = [\n",
    "    [11751, 0.0000001512, 'high', 0.000003054, 'mid'],\n",
    "    [7287, 0.0000002045, 'high', 0.000001352, 'mid'],\n",
    "    [7734, 0.0000002046, 'high', 0.0000008852, 'high'],\n",
    "    [7156, 0.0000002196, 'high', 0.000003289, 'mid'],\n",
    "    [11151, 0.0000002267, 'high', 0.000003088, 'mid'],\n",
    "    [8915, 0.0000002914, 'high', 0.0000008946, 'high'],\n",
    "    [11439, 0.0000004716, 'mid', 0.000001509, 'mid'],\n",
    "    [6928, 0.000000496, 'mid', 0.00000349, 'mid'],\n",
    "    [6844, 0.0000005604, 'mid', 0.000003, 'mid'],\n",
    "    [10832, 0.0000005972, 'mid', 0.000001287, 'mid'],\n",
    "    [6254, 0.0000006055, 'mid', 0.000002252, 'mid'],\n",
    "    [7094, 0.0000006848, 'mid', 0.00000466, 'mid'],\n",
    "    [4160, 0.0000007182, 'mid', 0.000005749, 'mid'],\n",
    "    [6808, 0.0000007512, 'mid', 0.000001852, 'mid'],\n",
    "    [6265, 0.0000007757, 'mid', 0.000005094, 'mid'],\n",
    "    [5469, 0.0000009556, 'mid', 0.000004288, 'mid'],\n",
    "    [6302, 0.0000009596, 'mid', 0.000003502, 'mid'],\n",
    "    [5251, 0.0000009612, 'mid', 0.0000031, 'mid'],\n",
    "    [5458, 0.000001003, 'mid', 0.000001951, 'mid'],\n",
    "    [5170, 0.000001006, 'mid', 0.00000677,  'low'],\n",
    "    [8172, 0.000001096, 'mid', 0.000003348, 'mid'],\n",
    "    [8483, 0.000001127, 'mid', 0.000001264, 'high'],\n",
    "    [3936, 0.000001136, 'mid', 0.000006437, 'low'],\n",
    "    [11870, 0.000001894, 'low', np.nan, np.nan],\n",
    "    [8395, 0.000002766, 'low', 0.000002382, 'mid'],\n",
    "    [9130, 0.00000008254, np.nan, 0.000001153, np.nan],\n",
    "    [11251,0.0000003493, np.nan, 0.000004135, np.nan],\n",
    "]\n",
    "df_avidity_a08 = pd.DataFrame(df_avidity_a08, columns=columns).set_index('clone_id')\n",
    "df_avidity_a08.index = df_avidity_a08.index.astype(str) + '.0'\n",
    "assert np.sum(df_avidity_a08.index.isin(adata[adata.obs['donor']=='A08'].obs['clone_id']))==len(df_avidity_a08)\n",
    "df_avidity_a08"
   ]
  },
  {
   "cell_type": "code",
   "execution_count": null,
   "id": "94e18408",
   "metadata": {},
   "outputs": [],
   "source": [
    "df_avidity_a15 = [\n",
    "    [6993, 0.00000006643, 'high', 0.000000627],\n",
    "    [7758, 0.00000006978, 'high', 0.0000003042, 'high'],\n",
    "    [7911, 0.00000008178, 'high', 0.0000003719],\n",
    "    [386, 0.00000008187, 'high', 0.0000003234],\n",
    "    [66, 0.00000008321, 'high', 0.000000218, 'high'],\n",
    "    [772, 0.00000009391, 'high', 0.0000001429, 'high'],\n",
    "    [277, 0.0000001074, 'mid', 0.0000003362, 'mid'],\n",
    "    [11253, 0.0000001078, 'mid', 0.000001294, 'mid'],\n",
    "    [509, 0.0000001151, 'mid', 0.0000003426, 'mid'],\n",
    "    [6743, 0.0000001199, 'mid', 0.0000007033, 'mid'],\n",
    "    [5245, 0.0000001201, 'mid', 0.0000009971, 'mid'],\n",
    "    [5576, 0.0000001499, 'mid', 0.00000107, 'mid'],\n",
    "    [4545, 0.0000001557, 'mid', 0.0000003805, 'mid'],\n",
    "    [763, 0.0000001562, 'mid', 0.0000003707, 'mid'],\n",
    "    [684, 0.0000001702, 'mid', 0.000002945, 'low'],\n",
    "    [1735, 0.0000001898, 'mid', 0.000001518, 'mid'],\n",
    "    [6755, 0.0000001924, 'mid', 0.000001003, 'mid'],\n",
    "    [6548, 0.0000002097, 'mid', 0.000001736, 'mid'],\n",
    "    [10813, 0.000000243, 'mid', 0.000001064, 'mid'],\n",
    "    [545, 0.0000003402, 'mid', 0.000001512, 'mid'],\n",
    "    [2722, 0.0000003449, 'mid', 0.0000006764, 'mid'],\n",
    "    [3155, 0.000000388, 'mid', 0.0000009333, 'mid'],\n",
    "    [4386, 0.0000004069, 'mid', 0.0000007293, 'mid'],\n",
    "    [489, 0.0000004128, 'mid', 0.0000006835, 'mid'],\n",
    "    [317, 0.0000005827, 'mid', 0.000001118, 'mid'],\n",
    "    [7894, 0.000002096, 'low', 0.000000489, 'mid'],\n",
    "    [11964, 0.0001143, 'low', 0.0001015, 'low'],\n",
    "]\n",
    "df_avidity_a15 = pd.DataFrame(df_avidity_a15, columns=columns).set_index('clone_id')\n",
    "df_avidity_a15.index = df_avidity_a15.index.astype(str) + '.0'\n",
    "assert np.sum(df_avidity_a15.index.isin(adata[adata.obs['donor']=='A15'].obs['clone_id']))==len(df_avidity_a15)\n",
    "df_avidity_a15"
   ]
  },
  {
   "cell_type": "code",
   "execution_count": null,
   "id": "83cad1e3",
   "metadata": {},
   "outputs": [],
   "source": [
    "df_avidity_a29 = [\n",
    "    [52, 0.00000002355, 'high', 0.00000001207,  'high'],\n",
    "    [5766, 0.00000003258, 'high', 0.0000001136, 'mid'],\n",
    "    [691, 0.00000003349, 'high', 0.000000007647,  'high'],\n",
    "    [6467, 0.00000003569, 'high', 0.0000000908, 'mid'],\n",
    "    [10749, 0.00000003876, 'high', 0.0000001733, 'mid'],\n",
    "    [6688, 0.00000004496, 'high', 0.0000002203, 'mid'],\n",
    "    [6579, 0.00000004571, 'high', 0.0000001151, 'mid'],\n",
    "    [6140, 0.00000004614, 'high', 0.0000001734, 'mid'],\n",
    "    [3695, 0.00000004756, 'high', 0.000000106, 'mid'],\n",
    "    [9825, 0.00000005136, 'high', 0.0000003264, 'mid'],\n",
    "    [323, 0.00000003406, 'high', 0.0000001557,  'high'],\n",
    "    [11445, 0.00000008472, 'mid', 0.000000371, 'mid'],\n",
    "    [9961, 0.0000001021, 'mid', 0.0000003585, 'mid'],\n",
    "    [7411, 0.0000001325, 'mid', 0.0000002942, 'mid'],\n",
    "    [8191, 0.00001236, 'low', 0.000008164, 'low'],\n",
    "]\n",
    "df_avidity_a29 = pd.DataFrame(df_avidity_a29, columns=columns).set_index('clone_id')\n",
    "df_avidity_a29.index = df_avidity_a29.index.astype(str) + '.0'\n",
    "assert np.sum(df_avidity_a29.index.isin(adata[adata.obs['donor']=='A29'].obs['clone_id']))==len(df_avidity_a29)\n",
    "df_avidity_a29"
   ]
  },
  {
   "cell_type": "code",
   "execution_count": null,
   "id": "5d750082",
   "metadata": {},
   "outputs": [],
   "source": [
    "df_avidity_him = [\n",
    "    [5226, 0.00000008818, 'high', 0.0000004583, 'mid'],\n",
    "    [2495, 0.00000009974, 'high', 0.0000005816, 'mid'],\n",
    "    [272, 0.0000001118, 'mid', 0.0000006998, 'mid'],\n",
    "    [2058, 0.0000001187, 'mid', 0.0000001299,  'high'],\n",
    "    [1650, 0.000000126, 'mid', 0.0000009917, 'mid'],\n",
    "    [41, 0.0000001349, 'mid', 0.000000911, 'mid'],\n",
    "    [219, 0.0000001352, 'mid', 0.0000001564,  'high'],\n",
    "    [1361, 0.0000001375, 'mid', 0.00000168, 'mid'],\n",
    "    [1701, 0.0000001807, 'mid', 0.000002074, 'mid'],\n",
    "    [2997, 0.0000002962, 'mid', 0.000001611, 'mid'],\n",
    "    [475, 0.0000002986, 'mid', 0.000002468, 'mid'],\n",
    "    [5546, 0.0000004082, 'mid', 0.000002859, 'mid'],\n",
    "    [1276, np.nan, 'low', 0.00004086, 'low'],\n",
    "]\n",
    "df_avidity_him = pd.DataFrame(df_avidity_him, columns=columns).set_index('clone_id')\n",
    "df_avidity_him.index = df_avidity_him.index.astype(str) + '.0'\n",
    "assert np.sum(df_avidity_him.index.isin(adata[adata.obs['donor']=='HIM'].obs['clone_id']))==len(df_avidity_him)\n",
    "df_avidity_him"
   ]
  },
  {
   "cell_type": "code",
   "execution_count": null,
   "id": "eefc080f",
   "metadata": {},
   "outputs": [],
   "source": [
    "donor_2_avidity = {\n",
    "    'A04': df_avidity_a04,\n",
    "    'A08': df_avidity_a08,\n",
    "    'A15': df_avidity_a15,\n",
    "    'A29': df_avidity_a29,\n",
    "    'HIM': df_avidity_him,\n",
    "}\n",
    "\n",
    "for col in ['level_IFNg_EC50', 'level_mTRBC_EC50', 'score_IFNg_EC50', 'score_mTRBC_EC50']:\n",
    "    adata.obs[col] = np.nan\n",
    "    for donor, df_avidity in donor_2_avidity.items():\n",
    "        mask = adata.obs['donor'] == donor\n",
    "        dict_avidity = dict(zip(df_avidity.index.values, df_avidity[col].values))\n",
    "        adata.obs.loc[mask, col] = adata.obs.loc[mask, 'clone_id'].map(dict_avidity)\n",
    "adata.obs['log_score_IFNg_EC50'] = np.log10(adata.obs['score_IFNg_EC50'].values)"
   ]
  },
  {
   "cell_type": "markdown",
   "id": "15669199",
   "metadata": {},
   "source": [
    "## Level Annotation - Top5 per Donor"
   ]
  },
  {
   "cell_type": "code",
   "execution_count": null,
   "id": "6c2605e4",
   "metadata": {},
   "outputs": [],
   "source": [
    "for mod in ['IFNg_EC50', 'mTRBC_EC50']:\n",
    "    col = f'level_{mod}_top5'\n",
    "    adata.obs[col] = np.nan\n",
    "    for donor, df_tmp in donor_2_avidity.items():\n",
    "        sort_scores = df_tmp[f'score_{mod}'].dropna().sort_values()\n",
    "        sort_scores[~sort_scores.index.isin(['11964.0', '8191.0'])]\n",
    "        sort_scores[~sort_scores.index.isin(new_cts)]\n",
    "        \n",
    "        cts_high = sort_scores[:5].index.tolist()\n",
    "        cts_low = sort_scores[-5:].index.tolist()\n",
    "        cts_mid = [el for el in sort_scores.index if (el not in cts_high) and (el not in cts_low)]\n",
    "        \n",
    "        adata.obs.loc[adata.obs['clone_id'].isin(cts_high) &\n",
    "                      (adata.obs['donor']==donor), col] = 'high'\n",
    "        adata.obs.loc[adata.obs['clone_id'].isin(cts_low) &\n",
    "                      (adata.obs['donor']==donor), col] = 'low'\n",
    "        adata.obs.loc[adata.obs['clone_id'].isin(cts_mid) &\n",
    "                      (adata.obs['donor']==donor), col] = 'mid'\n",
    "        \n",
    "adata.obs[col].value_counts()"
   ]
  },
  {
   "cell_type": "markdown",
   "id": "9cc05cb3",
   "metadata": {},
   "source": [
    "## Level Annotation - Top5 per population (HIM separate)"
   ]
  },
  {
   "cell_type": "code",
   "execution_count": null,
   "id": "524c64cb",
   "metadata": {},
   "outputs": [],
   "source": [
    "# Fix: Clonotype 772.0 was measured twice. Let's take the mean\n",
    "df_avidity_a040815 = pd.concat([df_avidity_a04, df_avidity_a08, df_avidity_a15])\n",
    "df_avidity_fix_772 = df_avidity_a040815.loc['772.0']\n",
    "df_avidity_a040815 = df_avidity_a040815[df_avidity_a040815.index != '772.0']\n",
    "df_avidity_fix_772 = pd.DataFrame(df_avidity_fix_772.mean()).transpose()\n",
    "df_avidity_fix_772.index = ['772.0']\n",
    "df_avidity_fix_772[['level_IFNg_EC50', 'level_mTRBC_EC50']] = 'high'\n",
    "df_avidity_a040815 = pd.concat([df_avidity_a040815, df_avidity_fix_772])\n",
    "\n",
    "population_2_avidity = [\n",
    "    (['A04', 'A08', 'A15'], df_avidity_a040815),\n",
    "    (['A29'], df_avidity_a29),\n",
    "    (['HIM'], df_avidity_him)\n",
    "]\n",
    "\n",
    "for mod in ['IFNg_EC50', 'mTRBC_EC50']:\n",
    "    col = f'level_{mod}_population_top5'\n",
    "    adata.obs[col] = np.nan\n",
    "    for donors, df_tmp in population_2_avidity:\n",
    "        sort_scores = df_tmp[f'score_{mod}'].dropna().sort_values()\n",
    "        sort_scores[~sort_scores.index.isin(['11964.0', '8191.0'])]\n",
    "        sort_scores[~sort_scores.index.isin(new_cts)]\n",
    "        cts_high = sort_scores[:5].index.tolist()\n",
    "        cts_low = sort_scores[-5:].index.tolist()\n",
    "        cts_mid = [el for el in sort_scores.index if (el not in cts_high) and (el not in cts_low)]\n",
    "        \n",
    "        adata.obs.loc[adata.obs['clone_id'].isin(cts_high) &\n",
    "                      (adata.obs['donor'].isin(donors)), col] = 'high'\n",
    "        adata.obs.loc[adata.obs['clone_id'].isin(cts_low) &\n",
    "                      (adata.obs['donor'].isin(donors)), col] = 'low'\n",
    "        adata.obs.loc[adata.obs['clone_id'].isin(cts_mid) &\n",
    "                      (adata.obs['donor'].isin(donors)), col] = 'mid'\n",
    "        \n",
    "adata.obs[col].value_counts()"
   ]
  },
  {
   "cell_type": "markdown",
   "id": "e650a409",
   "metadata": {},
   "source": [
    "## Annotate tested reactivity"
   ]
  },
  {
   "cell_type": "code",
   "execution_count": null,
   "id": "5dff1910",
   "metadata": {},
   "outputs": [],
   "source": [
    "adata.obs['reactivity'] = np.nan\n",
    "adata.obs.loc[adata.obs['score_IFNg_EC50'].notna() | adata.obs['level_IFNg_EC50'].notna(), 'reactivity'] = 'reactive'\n",
    "\n",
    "unreactive_clones = ['10623.0', '4350.0', '2123.0', '1690.0', '9973.0',\n",
    "                    '15599.0', '18755.0', '19327.0', '20205.0']\n",
    "adata.obs.loc[adata.obs['clone_id'].isin(unreactive_clones), 'reactivity'] = 'unreactive'\n",
    "adata.obs['reactivity'].value_counts()"
   ]
  },
  {
   "cell_type": "markdown",
   "id": "b02b5ea5",
   "metadata": {},
   "source": [
    "## Metabolic scores"
   ]
  },
  {
   "cell_type": "code",
   "execution_count": null,
   "id": "164d6d75",
   "metadata": {},
   "outputs": [],
   "source": [
    "import omnipath as op"
   ]
  },
  {
   "cell_type": "code",
   "execution_count": null,
   "id": "eff65608",
   "metadata": {},
   "outputs": [],
   "source": [
    "msigdb = dc.get_resource('MSigDB')\n",
    "selected_kegg_pathways = [\n",
    "    'KEGG_OXIDATIVE_PHOSPHORYLATION',\n",
    "    'KEGG_GLYCOLYSIS_GLUCONEOGENESIS',\n",
    "    'KEGG_T_CELL_RECEPTOR_SIGNALING_PATHWAY',\n",
    "    'KEGG_RNA_POLYMERASE',\n",
    "    'KEGG_SPLICEOSOME'\n",
    "]\n",
    "msigdb_selected = msigdb[msigdb['geneset'].isin(selected_kegg_pathways)]\n",
    "msigdb_selected['weight'] = 1\n",
    "msigdb_selected = msigdb_selected.drop_duplicates()\n",
    "msigdb_selected.head()"
   ]
  },
  {
   "cell_type": "code",
   "execution_count": null,
   "id": "aed5f771",
   "metadata": {},
   "outputs": [],
   "source": [
    "dc.run_mlm(\n",
    "    mat=adata,\n",
    "    net=msigdb_selected,\n",
    "    source='geneset',\n",
    "    target='genesymbol',\n",
    "    weight='weight',\n",
    "    use_raw = False,\n",
    "    verbose=True\n",
    ")\n",
    "\n",
    "for col in adata.obsm['mlm_estimate'].columns:\n",
    "    adata.obs[f'score_{col.lower()}'] = adata.obsm['mlm_estimate'][col]\n",
    "    \n",
    "kegg_scores = [f'score_{el.lower()}' for el in selected_kegg_pathways]\n",
    "sc.pl.umap(adata, color=kegg_scores, ncols=3)"
   ]
  },
  {
   "cell_type": "code",
   "execution_count": null,
   "id": "84d50798",
   "metadata": {},
   "outputs": [],
   "source": [
    "for col in kegg_scores:\n",
    "    rcParams['figure.figsize'] = (8, 4)\n",
    "    plot = sb.boxplot(data=adata.obs, x='leiden_CD8', y=col)\n",
    "    plt.show()"
   ]
  },
  {
   "cell_type": "markdown",
   "id": "6410e8d6",
   "metadata": {},
   "source": [
    "# Plots"
   ]
  },
  {
   "cell_type": "markdown",
   "id": "1cbab79a",
   "metadata": {},
   "source": [
    "## Score by cluster"
   ]
  },
  {
   "cell_type": "code",
   "execution_count": null,
   "id": "b42b8923",
   "metadata": {},
   "outputs": [],
   "source": [
    "rcParams['figure.figsize'] = (8, 4)\n",
    "\n",
    "for n, ds in [('_withoutHim', ['HIM']), ('', [])]:\n",
    "    plot = sb.boxplot(data=adata[~adata.obs['donor'].isin(ds)\n",
    "                                & (~adata.obs['clone_id'].isin(new_cts))].obs, x='leiden_CD8', y='score_IFNg_EC50', \n",
    "                      palette=colors_leiden, flierprops={'marker': 'd', 'markerfacecolor' :'black'})\n",
    "    plot.set_yscale('log')\n",
    "    plt.gca().invert_yaxis()\n",
    "    plt.savefig(f'{path_figs}/avidity/avidity_leiden_ifng_box{n}.pdf', bbox_inches='tight', dpi=300,)\n",
    "    adata.obs.groupby('leiden_CD8')['score_IFNg_EC50'].mean()\n",
    "    plt.show()"
   ]
  },
  {
   "cell_type": "code",
   "execution_count": null,
   "id": "c4f274c1",
   "metadata": {},
   "outputs": [],
   "source": [
    "for n, ds in [('_withoutHim', ['HIM']), ('', [])]:\n",
    "    adata_tmp = adata[~adata.obs['donor'].isin(ds)\n",
    "                     & (~adata.obs['clone_id'].isin(new_cts))].copy()\n",
    "    adata_tmp.obs['log_score_IFNg_EC50'] = np.log10(adata_tmp.obs['score_IFNg_EC50'].values)\n",
    "    plot = sb.stripplot(data=adata_tmp.obs, x='leiden_CD8', y='log_score_IFNg_EC50', \n",
    "                            color='gray',\n",
    "                            size=3, jitter=0.3,\n",
    "                            order=leiden_dpt_order, zorder=10,\n",
    "                            )\n",
    "    plot = sb.violinplot(data=adata_tmp.obs, x='leiden_CD8', y='log_score_IFNg_EC50', \n",
    "                         scale='width', palette=colors_leiden, inner=None,\n",
    "                        order=leiden_dpt_order)\n",
    "    plt.gca().invert_yaxis()\n",
    "    plot.legend().remove()\n",
    "        \n",
    "    sb.despine(ax=plot)\n",
    "    plot.grid(False)\n",
    "    plot.set_title(n.replace('_', ''))\n",
    "    \n",
    "    plt.savefig(f'{path_figs}/avidity/avidity_leiden_ifng_scatter{n}.pdf', bbox_inches='tight', dpi=300,)\n",
    "    plt.show()"
   ]
  },
  {
   "cell_type": "code",
   "execution_count": null,
   "id": "9c8ea478",
   "metadata": {},
   "outputs": [],
   "source": [
    "for n, ds in [('_withoutHim', ['HIM']), ('', [])]:\n",
    "    plot = sb.boxplot(data=adata[~adata.obs['donor'].isin(ds)\n",
    "                                 & (~adata.obs['clone_id'].isin(new_cts))].obs, x='leiden_CD8', y='score_mTRBC_EC50',\n",
    "                     palette=colors_leiden, flierprops={'marker': 'd', 'markerfacecolor' :'black'})\n",
    "    plot.set_yscale('log')\n",
    "    plt.gca().invert_yaxis()\n",
    "    plt.savefig(f'{path_figs}/avidity/avidity_leiden_mtrbc_box{n}.pdf', bbox_inches='tight', dpi=300,)\n",
    "    adata.obs.groupby('leiden_CD8')['score_mTRBC_EC50'].mean()\n",
    "    plt.show()"
   ]
  },
  {
   "cell_type": "code",
   "execution_count": null,
   "id": "2c729790",
   "metadata": {},
   "outputs": [],
   "source": [
    "for n, ds in [('_withoutHim', ['HIM']), ('', [])]:\n",
    "    adata_tmp = adata[~adata.obs['donor'].isin(ds)\n",
    "                     & (~adata.obs['clone_id'].isin(new_cts))].copy()\n",
    "    adata_tmp.obs['log_score_mTRBC_EC50'] = np.log10(adata_tmp.obs['score_mTRBC_EC50'].values)\n",
    "    plot = sb.stripplot(data=adata_tmp.obs, x='leiden_CD8', y='log_score_mTRBC_EC50', \n",
    "                            color='gray', size=3, jitter=0.3,\n",
    "                            order=leiden_dpt_order, zorder=10,\n",
    "                            )\n",
    "    plot = sb.violinplot(data=adata_tmp.obs, x='leiden_CD8', y='log_score_mTRBC_EC50', \n",
    "                         scale='width', palette=colors_leiden, inner=None,\n",
    "                        order=leiden_dpt_order)\n",
    "    plt.gca().invert_yaxis()\n",
    "    plot.legend().remove()\n",
    "    \n",
    "    sb.despine(ax=plot)\n",
    "    plot.grid(False)\n",
    "    plot.set_title(n.replace('_', ''))\n",
    "    \n",
    "    plt.savefig(f'{path_figs}/avidity/avidity_leiden_mtrbc_scatter{n}.pdf', bbox_inches='tight', dpi=300,)\n",
    "    plt.show()"
   ]
  },
  {
   "cell_type": "markdown",
   "id": "8607561b",
   "metadata": {},
   "source": [
    "### IFNG by leiden with unreactive"
   ]
  },
  {
   "cell_type": "code",
   "execution_count": null,
   "id": "bb51c336",
   "metadata": {},
   "outputs": [],
   "source": [
    "fig = plt.figure(figsize=(8, 4))\n",
    "\n",
    "gs = gridspec.GridSpec(2, 1, height_ratios=[3, 1], hspace=0.05)\n",
    "\n",
    "df_tmp = adata[adata.obs['donor']!='HIM'].obs.copy()\n",
    "df_tmp = df_tmp[df_tmp['score_IFNg_EC50'].notna() | (df_tmp['reactivity']=='unreactive')]\n",
    "df_tmp = df_tmp[~df_tmp['clone_id'].isin(new_cts)]\n",
    "df_tmp['log_score_IFNg_EC50'] = df_tmp['log_score_IFNg_EC50'].fillna(1)\n",
    "\n",
    "ax_full = fig.add_subplot(gs[:])\n",
    "ax_u = fig.add_subplot(gs[0])\n",
    "ax_b = fig.add_subplot(gs[1])\n",
    "\n",
    "\n",
    "d = 0.03\n",
    "ax_b.plot((-d*4/7, +d*4/7), (-d*2+1, +d*2+1), transform=ax_b.transAxes, color='silver', clip_on=False, linewidth=0.5)\n",
    "ax_u.plot((-d*4/7, +d*4/7), (-d*2/3, +d*2/3), transform=ax_u.transAxes, color='silver', clip_on=False, linewidth=0.5)\n",
    "\n",
    "plot = sb.stripplot(data=df_tmp[df_tmp['log_score_IFNg_EC50']<1], x='leiden_CD8', y='log_score_IFNg_EC50', \n",
    "                        color='gray', ax=ax_u,\n",
    "                        size=3, jitter=0.3,\n",
    "                        order=leiden_dpt_order, zorder=10,\n",
    "                        )\n",
    "plot = sb.violinplot(data=df_tmp[df_tmp['log_score_IFNg_EC50']<1], x='leiden_CD8', y='log_score_IFNg_EC50', \n",
    "                     scale='width', palette=colors_leiden, inner=None, ax=ax_u,\n",
    "                    order=leiden_dpt_order)\n",
    "sb.despine(ax=plot, bottom=True)\n",
    "plot.grid(False)\n",
    "plot.set_ylabel(None)\n",
    "plot.invert_yaxis()\n",
    "ylim = plot.get_ylim()\n",
    "\n",
    "\n",
    "plot = sb.stripplot(data=df_tmp[df_tmp['log_score_IFNg_EC50']>=1], jitter=0.3,\n",
    "                    x='leiden_CD8', y='log_score_IFNg_EC50', color='gray', ax=ax_b,\n",
    "                    size=3,\n",
    "                    order=leiden_dpt_order)\n",
    "\n",
    "sb.despine(ax=plot)\n",
    "plot.grid(False)\n",
    "plot.set_ylabel(None)\n",
    "plot.set_yticks([1])\n",
    "plot.set_yticklabels(['N.R.'])\n",
    "\n",
    "\n",
    "sb.despine(ax=ax_full, bottom=True, left=True)\n",
    "ax_full.set_yticklabels([])\n",
    "ax_full.set_xticklabels([])\n",
    "ax_full.set_ylabel('log$_{10}$(IFNg EC50)', labelpad=30)\n",
    "ax_full.grid(False)\n",
    "ax_full.set_title('wo HIM')\n",
    "\n",
    "plt.tight_layout()\n",
    "plt.savefig(f'{path_figs}/avidity/avidity_leiden_ifng_scatter_woHIM_withUnreactives.pdf', bbox_inches='tight', dpi=300,)\n",
    "plt.savefig(f'{path_figs}/avidity/avidity_leiden_ifng_scatter_woHIM_withUnreactives.png', bbox_inches='tight', dpi=300,)\n",
    "plt.show()\n",
    "\n"
   ]
  },
  {
   "cell_type": "markdown",
   "id": "1b989821",
   "metadata": {},
   "source": [
    "### New clones IFNG"
   ]
  },
  {
   "cell_type": "code",
   "execution_count": null,
   "id": "9a58846b",
   "metadata": {},
   "outputs": [],
   "source": [
    "new_cts = ['9130.0', '11251.0', '15599.0', '18755.0', '19327.0', '20205.0']\n",
    "df_tmp = adata[adata.obs['clone_id'].isin(new_cts)].obs.copy()['log_score_IFNg_EC50']"
   ]
  },
  {
   "cell_type": "code",
   "execution_count": null,
   "id": "7a885d2f",
   "metadata": {
    "scrolled": false
   },
   "outputs": [],
   "source": [
    "fig = plt.figure(figsize=(4, 4))\n",
    "gs = gridspec.GridSpec(2, 1, height_ratios=[3, 1], hspace=0.05)\n",
    "\n",
    "new_cts = ['9130.0', '11251.0', '15599.0', '18755.0', '19327.0', '20205.0']\n",
    "df_tmp = adata[adata.obs['clone_id'].isin(new_cts)].obs.copy()\n",
    "df_tmp['log_score_IFNg_EC50'] = df_tmp['log_score_IFNg_EC50'].fillna(1)\n",
    "order_tmp = [el for el in leiden_dpt_order if el in df_tmp['leiden_CD8'].values]\n",
    "\n",
    "ax_full = fig.add_subplot(gs[:])\n",
    "ax_u = fig.add_subplot(gs[0])\n",
    "ax_b = fig.add_subplot(gs[1])\n",
    "\n",
    "\n",
    "d = 0.03\n",
    "ax_b.plot((-d*4/7, +d*4/7), (-d*2+1, +d*2+1), transform=ax_b.transAxes, color='silver', clip_on=False, linewidth=0.5)\n",
    "ax_u.plot((-d*4/7, +d*4/7), (-d*2/3, +d*2/3), transform=ax_u.transAxes, color='silver', clip_on=False, linewidth=0.5)\n",
    "\n",
    "plot = sb.swarmplot(data=df_tmp[df_tmp['log_score_IFNg_EC50']<1], #jitter=0.3,\n",
    "                    x='leiden_CD8', y='log_score_IFNg_EC50', color='gray', ax=ax_u,\n",
    "                   order=order_tmp)\n",
    "plot.set_ylim((ylim[1], ylim[0]))\n",
    "sb.despine(ax=plot, bottom=True)\n",
    "plot.grid(False)\n",
    "plot.set_ylabel(None)\n",
    "plot.invert_yaxis()\n",
    "plot.set_xlabel(None)\n",
    "plot.set_xticklabels([])\n",
    "\n",
    "plot = sb.swarmplot(data=df_tmp[df_tmp['log_score_IFNg_EC50']>=1], #jitter=0.3,\n",
    "                    x='leiden_CD8', y='log_score_IFNg_EC50', color='gray', ax=ax_b,\n",
    "                    order=order_tmp)\n",
    "\n",
    "\n",
    "sb.despine(ax=plot)\n",
    "plot.grid(False)\n",
    "plot.set_ylabel(None)\n",
    "plot.set_yticks([1])\n",
    "plot.set_yticklabels(['N.R.'])\n",
    "\n",
    "\n",
    "sb.despine(ax=ax_full, bottom=True, left=True)\n",
    "ax_full.set_yticklabels([])\n",
    "ax_full.set_xticklabels([])\n",
    "ax_full.set_ylabel('log$_{10}$(IFNg EC50)', labelpad=30)\n",
    "ax_full.grid(False)\n",
    "\n",
    "plt.tight_layout()\n",
    "plt.savefig(f'{path_figs}/avidity/scatter_ifng_newClones.pdf', bbox_inches='tight', dpi=300,)\n",
    "plt.savefig(f'{path_figs}/avidity/scatter_ifng_newClones.png', bbox_inches='tight', dpi=300,)\n",
    "plt.show()"
   ]
  },
  {
   "cell_type": "markdown",
   "id": "17dcba47",
   "metadata": {},
   "source": [
    "### INFg by leiden with unreactives - all clones"
   ]
  },
  {
   "cell_type": "code",
   "execution_count": null,
   "id": "c01a94a1",
   "metadata": {},
   "outputs": [],
   "source": [
    "fig = plt.figure(figsize=(8, 4))\n",
    "\n",
    "gs = gridspec.GridSpec(2, 1, height_ratios=[3, 1], hspace=0.05)\n",
    "\n",
    "df_tmp = adata[adata.obs['donor']!='HIM'].obs.copy()\n",
    "df_tmp = df_tmp[df_tmp['score_IFNg_EC50'].notna() | (df_tmp['reactivity']=='unreactive')]\n",
    "df_tmp['log_score_IFNg_EC50'] = df_tmp['log_score_IFNg_EC50'].fillna(1)\n",
    "ax_full = fig.add_subplot(gs[:])\n",
    "ax_u = fig.add_subplot(gs[0])\n",
    "ax_b = fig.add_subplot(gs[1])\n",
    "\n",
    "\n",
    "d = 0.03\n",
    "ax_b.plot((-d*4/7, +d*4/7), (-d*2+1, +d*2+1), transform=ax_b.transAxes, color='silver', clip_on=False, linewidth=0.5)\n",
    "ax_u.plot((-d*4/7, +d*4/7), (-d*2/3, +d*2/3), transform=ax_u.transAxes, color='silver', clip_on=False, linewidth=0.5)\n",
    "\n",
    "plot = sb.stripplot(data=df_tmp[(df_tmp['log_score_IFNg_EC50']<1)\n",
    "                               & (~df_tmp['clone_id'].isin(new_cts))], x='leiden_CD8', y='log_score_IFNg_EC50', \n",
    "                        palette=colors_leiden, ax=ax_u,\n",
    "                        size=3, jitter=0.3,\n",
    "                        order=leiden_order_tmp, zorder=10,\n",
    "                        )\n",
    "plot = sb.swarmplot(data=df_tmp[(df_tmp['log_score_IFNg_EC50']<1)\n",
    "                               & (df_tmp['clone_id'].isin(new_cts))], x='leiden_CD8', y='log_score_IFNg_EC50', \n",
    "                        color='black', ax=ax_u, marker='D',\n",
    "                        size=3, #jitter=0.3,\n",
    "                        order=leiden_order_tmp, zorder=10,\n",
    "                        )\n",
    "plot = sb.violinplot(data=df_tmp[df_tmp['log_score_IFNg_EC50']<1], x='leiden_CD8', y='log_score_IFNg_EC50', \n",
    "                     scale='width', color='white', linecolor='black', inner=None, ax=ax_u,\n",
    "                    order=leiden_order_tmp)\n",
    "\n",
    "mean_value = np.log10(df_tmp[df_tmp['log_score_IFNg_EC50']<1]['score_IFNg_EC50'].mean())\n",
    "ax_u.axhline(y=mean_value, color='silver', linestyle='--', zorder=5)\n",
    "\n",
    "sb.despine(ax=plot, bottom=True)\n",
    "plot.grid(False)\n",
    "plot.set_ylabel(None)\n",
    "plot.invert_yaxis()\n",
    "ylim = plot.get_ylim()\n",
    "plot.set_xlabel(None)\n",
    "plot.set_xticklabels([])\n",
    "\n",
    "\n",
    "plot = sb.stripplot(data=df_tmp[(df_tmp['log_score_IFNg_EC50']>=1)\n",
    "                               & (~df_tmp['clone_id'].isin(new_cts))], jitter=0.3,\n",
    "                    x='leiden_CD8', y='log_score_IFNg_EC50', palette=colors_leiden, ax=ax_b,\n",
    "                    size=3,\n",
    "                    order=leiden_order_tmp)\n",
    "plot = sb.stripplot(data=df_tmp[(df_tmp['log_score_IFNg_EC50']>=1)\n",
    "                               & (df_tmp['clone_id'].isin(new_cts))], jitter=0.3,\n",
    "                    x='leiden_CD8', y='log_score_IFNg_EC50', color='black', ax=ax_b,\n",
    "                    size=3, marker='D',\n",
    "                    order=leiden_order_tmp)\n",
    "\n",
    "sb.despine(ax=plot)\n",
    "plot.grid(False)\n",
    "plot.set_ylabel(None)\n",
    "plot.set_yticks([1])\n",
    "plot.set_yticklabels(['N.R.'])\n",
    "\n",
    "\n",
    "sb.despine(ax=ax_full, bottom=True, left=True)\n",
    "ax_full.set_yticklabels([])\n",
    "ax_full.set_xticklabels([])\n",
    "ax_full.set_ylabel('log$_{10}$(IFNg EC50)', labelpad=30)\n",
    "ax_full.grid(False)\n",
    "ax_full.set_title('wo HIM')\n",
    "\n",
    "plt.tight_layout()\n",
    "plt.savefig(f'{path_figs}/avidity/avidity_leiden_ifng_scatter_woHIM_withUnreactivesOldNew.pdf', bbox_inches='tight', dpi=300,)\n",
    "plt.savefig(f'{path_figs}/avidity/avidity_leiden_ifng_scatter_woHIM_withUnreactivesOldNew.png', bbox_inches='tight', dpi=300,)\n",
    "plt.show()"
   ]
  },
  {
   "cell_type": "code",
   "execution_count": null,
   "id": "874f477a",
   "metadata": {},
   "outputs": [],
   "source": [
    "adata[adata.obs['log_score_IFNg_EC50'].notna()].obs[\n",
    "    ['leiden_CD8', 'log_score_IFNg_EC50']].groupby('leiden_CD8')['log_score_IFNg_EC50'].mean()"
   ]
  },
  {
   "cell_type": "code",
   "execution_count": null,
   "id": "5a8d7b9d",
   "metadata": {},
   "outputs": [],
   "source": [
    "np.log10(adata[adata.obs['log_score_IFNg_EC50'].notna()].obs[\n",
    "    ['leiden_CD8', 'score_IFNg_EC50']].groupby('leiden_CD8')['score_IFNg_EC50'].mean())"
   ]
  },
  {
   "cell_type": "markdown",
   "id": "21efb016",
   "metadata": {},
   "source": [
    "## UMAP"
   ]
  },
  {
   "cell_type": "code",
   "execution_count": null,
   "id": "eec9f2d1",
   "metadata": {
    "scrolled": true
   },
   "outputs": [],
   "source": [
    "epitope = 'LTDEMIAQY'\n",
    "score = 'score_IFNg_EC50'\n",
    "\n",
    "fig, axes = plt.subplots(1, len(time_order), figsize=(5*len(time_order), 5))\n",
    "\n",
    "\n",
    "vmin = np.log10(adata.obs[score].min())\n",
    "vmax = np.log10(adata.obs[score].max())\n",
    "for i, time in enumerate(time_order):\n",
    "    ax = axes[i]\n",
    "    sc.pl.umap(adata, ax=ax, show=False)\n",
    "\n",
    "    adata_tmp = adata[(adata.obs['binding_ct']==epitope) & (adata.obs['time']==time) & (adata.obs[score].notna())\n",
    "                     & (~adata.obs['clone_id'].isin(new_cts))]\n",
    "\n",
    "    if len(adata_tmp) > 0:\n",
    "        adata_tmp.obs[f'log_{score}'] = np.log10(adata_tmp.obs[score])\n",
    "        sc.pl.umap(adata_tmp, color=f'log_{score}', ax=ax, show=False, \n",
    "                   vmin=vmin, vmax=vmax, cmap=f'rocket_r', size=len(adata)/120,\n",
    "                  )\n",
    "    adata_tmp = adata[(adata.obs['binding_ct']==epitope) & (adata.obs['time']==time) \n",
    "                      & (adata.obs['reactivity']=='unreactive')\n",
    "                     & (~adata.obs['clone_id'].isin(new_cts))]\n",
    "    if len(adata_tmp) > 0:\n",
    "        plot = sc.pl.umap(adata_tmp, color=f'reactivity', ax=ax, show=False, \n",
    "                   palette=['silver'], size=len(adata)/120,)\n",
    "        plot.legend().remove()\n",
    "    \n",
    "    ax.set_ylabel(None)\n",
    "    ax.set_xlabel(None)\n",
    "    ax.set_title(None)\n",
    "    if i != len(time_order)-1:\n",
    "        ax.collections[1].colorbar.remove()\n",
    "            \n",
    "\n",
    "for i, time in enumerate(time_order):\n",
    "    axes[i].set_title(time)\n",
    "\n",
    "\n",
    "axes[0].set_ylabel(f'log10 {score}')\n",
    "    \n",
    "plt.tight_layout()\n",
    "plt.savefig(f'{path_figs}/avidity/ltd_scores_over_time.pdf', bbox_inches='tight', dpi=300,)\n",
    "plt.savefig(f'{path_figs}/avidity/ltd_scores_over_time.png', bbox_inches='tight', dpi=300,)\n",
    "plt.show()"
   ]
  },
  {
   "cell_type": "code",
   "execution_count": null,
   "id": "ab94e99b",
   "metadata": {
    "scrolled": true
   },
   "outputs": [],
   "source": [
    "epitope = 'LTDEMIAQY'\n",
    "score = 'score_IFNg_EC50'\n",
    "\n",
    "fig, axes = plt.subplots(1, len(time_order)-1, figsize=(5*(len(time_order)-1), 5))\n",
    "\n",
    "\n",
    "vmin = np.log10(adata.obs[score].min())\n",
    "vmax = np.log10(adata.obs[score].max())\n",
    "for i, time in enumerate(time_order):\n",
    "    if time == 'X3':\n",
    "        break\n",
    "    ax = axes[i]\n",
    "    sc.pl.umap(adata, ax=ax, show=False)\n",
    "\n",
    "    adata_tmp = adata[(adata.obs['binding_ct']==epitope) & (adata.obs['time']==time) \n",
    "                      & (adata.obs[score].notna()) & (adata.obs['donor']!='HIM')\n",
    "                     & (~adata.obs['clone_id'].isin(new_cts))]\n",
    "\n",
    "    if len(adata_tmp) > 0:\n",
    "        adata_tmp.obs[f'log_{score}'] = np.log10(adata_tmp.obs[score])\n",
    "        sc.pl.umap(adata_tmp, color=f'log_{score}', ax=ax, show=False, \n",
    "                   vmin=vmin, vmax=vmax, cmap=f'rocket_r', size=len(adata)/120,\n",
    "                  )\n",
    "    adata_tmp = adata[(adata.obs['binding_ct']==epitope) & (adata.obs['time']==time) \n",
    "                      & (adata.obs['reactivity']=='unreactive')\n",
    "                     & (~adata.obs['clone_id'].isin(new_cts))\n",
    "                      & (adata.obs['donor']!='HIM')]\n",
    "    if len(adata_tmp) > 0:\n",
    "        plot = sc.pl.umap(adata_tmp, color=f'reactivity', ax=ax, show=False, \n",
    "                   palette=['silver'], size=len(adata)/120,)\n",
    "        plot.legend().remove()\n",
    "    \n",
    "    ax.set_ylabel(None)\n",
    "    ax.set_xlabel(None)\n",
    "    ax.set_title(None)\n",
    "    if i < len(time_order)-2:\n",
    "        ax.collections[1].colorbar.remove()\n",
    "            \n",
    "\n",
    "for i, time in enumerate(time_order[:-1]):\n",
    "    axes[i].set_title(time)\n",
    "\n",
    "\n",
    "axes[0].set_ylabel(f'log10 {score}')\n",
    "    \n",
    "plt.tight_layout()\n",
    "plt.savefig(f'{path_figs}/avidity/ltd_scores_over_time_woHIM.pdf', bbox_inches='tight', dpi=300,)\n",
    "plt.savefig(f'{path_figs}/avidity/ltd_scores_over_time_woHIM.png', bbox_inches='tight', dpi=300,)\n",
    "plt.show()"
   ]
  },
  {
   "cell_type": "code",
   "execution_count": null,
   "id": "c605ace9",
   "metadata": {
    "scrolled": true
   },
   "outputs": [],
   "source": [
    "epitope = 'YLQPRTFLL'\n",
    "score = 'score_IFNg_EC50'\n",
    "\n",
    "fig, axes = plt.subplots(1, len(time_order), figsize=(5*len(time_order), 5))\n",
    "\n",
    "\n",
    "vmin = np.log10(adata.obs[score].min())\n",
    "vmax = np.log10(adata.obs[score].max())\n",
    "for i, time in enumerate(time_order):\n",
    "    ax = axes[i]\n",
    "    sc.pl.umap(adata, ax=ax, show=False)\n",
    "\n",
    "    adata_tmp = adata[(adata.obs['binding_ct']==epitope) & (adata.obs['time']==time) & (adata.obs[score].notna())\n",
    "                     & (~adata.obs['clone_id'].isin(new_cts))]\n",
    "\n",
    "    if len(adata_tmp) > 0:\n",
    "        adata_tmp.obs[f'log_{score}'] = np.log10(adata_tmp.obs[score])\n",
    "        sc.pl.umap(adata_tmp, color=f'log_{score}', ax=ax, show=False, \n",
    "                   vmin=vmin, vmax=vmax, cmap=f'rocket_r', size=len(adata)/120,\n",
    "                  )\n",
    "        if i != 4:\n",
    "            ax.collections[1].colorbar.remove()\n",
    "    ax.set_ylabel(None)\n",
    "    ax.set_xlabel(None)\n",
    "    ax.set_title(None)         \n",
    "\n",
    "    adata_tmp = adata[(adata.obs['binding_ct']==epitope) & (adata.obs['time']==time) \n",
    "                      & (adata.obs['reactivity']=='unreactive')\n",
    "                     & (~adata.obs['clone_id'].isin(new_cts))]\n",
    "    if len(adata_tmp) > 0:\n",
    "        plot = sc.pl.umap(adata_tmp, color=f'reactivity', ax=ax, show=False, \n",
    "                   palette=['silver'], size=len(adata)/120,)\n",
    "        plot.legend().remove()\n",
    "        \n",
    "    ax.set_ylabel(None)\n",
    "    ax.set_xlabel(None)\n",
    "    ax.set_title(None)      \n",
    "\n",
    "for i, time in enumerate(time_order):\n",
    "    axes[i].set_title(time)\n",
    "\n",
    "axes[0].set_ylabel(f'log10 {score}')\n",
    "    \n",
    "plt.tight_layout()\n",
    "plt.savefig(f'{path_figs}/avidity/ylq_scores_over_time.pdf', bbox_inches='tight', dpi=300,)\n",
    "plt.savefig(f'{path_figs}/avidity/ylq_scores_over_time.png', bbox_inches='tight', dpi=300,)\n",
    "plt.show()"
   ]
  },
  {
   "cell_type": "code",
   "execution_count": null,
   "id": "82559a6b",
   "metadata": {},
   "outputs": [],
   "source": [
    "adata.obs['level_IFNg_EC50'].value_counts()"
   ]
  },
  {
   "cell_type": "code",
   "execution_count": null,
   "id": "5a66549f",
   "metadata": {},
   "outputs": [],
   "source": [
    "adata[adata.obs['donor']!='HIM'].obs['level_IFNg_EC50'].value_counts()"
   ]
  },
  {
   "cell_type": "code",
   "execution_count": null,
   "id": "386fb9e1",
   "metadata": {},
   "outputs": [],
   "source": [
    "adata[adata.obs['donor'].isin(['A29'])].obs['level_IFNg_EC50'].value_counts()"
   ]
  },
  {
   "cell_type": "code",
   "execution_count": null,
   "id": "b6316b22",
   "metadata": {},
   "outputs": [],
   "source": [
    "adata.obs['level_IFNg_EC50'].value_counts()"
   ]
  },
  {
   "cell_type": "markdown",
   "id": "bb93a3d2",
   "metadata": {},
   "source": [
    "## Reactive vs Unreactive"
   ]
  },
  {
   "cell_type": "code",
   "execution_count": null,
   "id": "b02ad2ee",
   "metadata": {},
   "outputs": [],
   "source": [
    "colors_reactive = {\n",
    "    'reactive': 'tab:orange',\n",
    "    'unreactive': 'tab:blue'\n",
    "}"
   ]
  },
  {
   "cell_type": "code",
   "execution_count": null,
   "id": "726cfd7f",
   "metadata": {},
   "outputs": [],
   "source": [
    "cats = [['A04', 'A08', 'A15'], ['HIM'], ['A29']]\n",
    "\n",
    "fig, axes = plt.subplots(1, len(cats), figsize=(len(cats)*5, 5))\n",
    "\n",
    "for i, donors in enumerate(cats):\n",
    "    ax = axes[i]\n",
    "    sc.pl.umap(adata, ax=ax, show=False)\n",
    "    \n",
    "    adata_tmp = adata[adata.obs['donor'].isin(donors) & adata.obs['reactivity'].notna()\n",
    "                     & (~adata.obs['clone_id'].isin(new_cts))]\n",
    "    sc.pl.umap(adata_tmp, color='reactivity', ax=ax, show=False, size=len(adata)/1200, palette=colors_reactive)\n",
    "    \n",
    "    ax.set_title(','.join(donors))\n",
    "    ax.set_ylabel(None)\n",
    "    ax.set_xlabel(None)\n",
    "    \n",
    "    if i != len(cats)-1:\n",
    "        ax.legend().remove()\n",
    "    \n",
    "\n",
    "plt.tight_layout()\n",
    "plt.savefig(f'{path_figs}/avidity/reactivity.pdf', bbox_inches='tight', dpi=300,)\n",
    "plt.savefig(f'{path_figs}/avidity/reactivity.png', bbox_inches='tight', dpi=300,)\n",
    "plt.show()  "
   ]
  },
  {
   "cell_type": "markdown",
   "id": "a234bf97",
   "metadata": {},
   "source": [
    "## Phenotype over time"
   ]
  },
  {
   "cell_type": "code",
   "execution_count": null,
   "id": "84f27660",
   "metadata": {},
   "outputs": [],
   "source": [
    "time_2_numeric = {\n",
    "    'P1': 10, \n",
    "    'S1': 31, \n",
    "    'S2': 90, \n",
    "    'S3': 231, \n",
    "    'T1': 258, \n",
    "    'T2': 356, \n",
    "    'T3': 437,\n",
    "}\n",
    "adata.obs['time_numeric'] = adata.obs['time'].map(time_2_numeric)\n",
    "adata.obs['time_numeric'].value_counts(dropna=False)"
   ]
  },
  {
   "cell_type": "code",
   "execution_count": null,
   "id": "ea2a72dc",
   "metadata": {},
   "outputs": [],
   "source": [
    "leiden_2_pheno1 = {\n",
    "    '0': 'TEff',\n",
    "    '2': 'TEM',\n",
    "    '3': 'CM',\n",
    "    '4': 'early TEff',\n",
    "    '6': 'IFN-TEff',\n",
    "    '8': 'IFN-TEff',\n",
    "}\n",
    "adata.obs['phenotype_1'] = adata.obs['leiden_CD8'].map(leiden_2_pheno1)\n",
    "adata.obs['phenotype_1'].value_counts()"
   ]
  },
  {
   "cell_type": "code",
   "execution_count": null,
   "id": "bdf09edf",
   "metadata": {},
   "outputs": [],
   "source": [
    "leiden_2_pheno2 = {\n",
    "    '0': 'Effector',\n",
    "    '4': 'Effector',\n",
    "    '2': 'Memory',\n",
    "    '3': 'Memory',\n",
    "    '6': 'IFN-TEff',\n",
    "    '8': 'IFN-TEff'\n",
    "}\n",
    "adata.obs['phenotype_2'] = adata.obs['leiden_CD8'].map(leiden_2_pheno2)\n",
    "adata.obs['phenotype_2'].value_counts()"
   ]
  },
  {
   "cell_type": "code",
   "execution_count": null,
   "id": "cb289c3c",
   "metadata": {},
   "outputs": [],
   "source": [
    "def pheno_line_plot(adata_tmp, col, group, ax, color, epitope='LTDEMIAQY'):\n",
    "    df_frac = adata_tmp.obs.groupby([col, 'time_numeric'])['binding_ct'].value_counts(normalize=True)\n",
    "    df_frac = df_frac.unstack().fillna(0.)\n",
    "    df_frac = pd.DataFrame(df_frac[epitope]).reset_index()\n",
    "    df_frac = df_frac[df_frac[col]==group]\n",
    "    df_add = [el for el in time_2_numeric.values() if el not in df_frac['time_numeric'].values]\n",
    "    n = len(df_add)\n",
    "    df_add = pd.DataFrame(data={col: [group]*n, 'time_numeric': df_add, epitope: [0.0]*n})\n",
    "    df_frac = pd.concat([df_frac, df_add])\n",
    "    df_frac = df_frac.sort_values('time_numeric').reset_index(drop=True)\n",
    "    plot = sb.lineplot(data=df_frac, x='time_numeric', y=epitope, ax=ax, color=color, label=group)\n",
    "    plot.set_ylabel('% of Cells')\n",
    "    plot.set_xlabel('Days')\n",
    "    plot.set_xticks(df_frac['time_numeric'])\n",
    "    plot.set_xticks([10, 31, 90, 231, 258, 356, 437])\n",
    "    sb.despine(ax=plot)\n",
    "    plot.grid(False)\n",
    "    plot.set_xticklabels(['P1', 'S1', 'S2', 'S3', 'T1', 'T2', 'T3']) \n",
    "#pheno_line_plot(adata_tmp, pheno_col, pheno, None, palette[pheno_col][pheno])"
   ]
  },
  {
   "cell_type": "code",
   "execution_count": null,
   "id": "b7cc735f",
   "metadata": {},
   "outputs": [],
   "source": [
    "palette_pheno_1 = sb.color_palette('bright')\n",
    "palette_pheno_1 = {\n",
    "    'TEff': palette_pheno_1[0],\n",
    "    'TEM': palette_pheno_1[1],\n",
    "    'CM': palette_pheno_1[2],\n",
    "    'early TEff': palette_pheno_1[3],\n",
    "    'IFN-TEff': palette_pheno_1[4],\n",
    "}\n",
    "\n",
    "palette_pheno_2 = sb.color_palette('colorblind')\n",
    "palette_pheno_2 = {\n",
    "    'Effector': palette_pheno_2[0],\n",
    "    'Memory': palette_pheno_2[1],\n",
    "    'IFN-TEff': palette_pheno_2[2],\n",
    "}\n",
    "\n",
    "palette = {\n",
    "    'phenotype_1': palette_pheno_1,\n",
    "    'phenotype_2': palette_pheno_2,\n",
    "}"
   ]
  },
  {
   "cell_type": "code",
   "execution_count": null,
   "id": "6cbb8e5d",
   "metadata": {
    "scrolled": true
   },
   "outputs": [],
   "source": [
    "color_vacs = 'gray'\n",
    "cats = [['A04', 'A08', 'A15'], ['A04'], ['A08'], ['A15']]\n",
    "for pheno_col in ['phenotype_1', 'phenotype_2']:\n",
    "    nrows = len(cats)\n",
    "    ncols = adata.obs[pheno_col].nunique()+1\n",
    "    fig, axes = plt.subplots(ncols, nrows, figsize=(nrows*8, ncols*4))\n",
    "    \n",
    "    for i, donors in enumerate(cats):\n",
    "        adata_tmp = adata[adata.obs['donor'].isin(donors)]\n",
    "\n",
    "        for j, pheno in enumerate(adata[adata.obs[pheno_col].notna()].obs[pheno_col].unique()):\n",
    "            ax = axes[j+1][i]\n",
    "            pheno_line_plot(adata_tmp, pheno_col, pheno, ax, palette[pheno_col][pheno])\n",
    "            pheno_line_plot(adata_tmp, pheno_col, pheno, axes[0][i], palette[pheno_col][pheno])\n",
    "            \n",
    "            ax.axvline(0, color=color_vacs)\n",
    "            ax.axvline(21, color=color_vacs)\n",
    "            ax.axvline(248, color=color_vacs)\n",
    "\n",
    "            axes[0][i].axvline(0, color=color_vacs)\n",
    "            axes[0][i].axvline(21, color=color_vacs)\n",
    "            axes[0][i].axvline(248, color=color_vacs)\n",
    "\n",
    "        axes[0][i].set_title(','.join(donors))\n",
    "            \n",
    "            \n",
    "    plt.tight_layout()\n",
    "    plt.savefig(f'{path_figs}/avidity/fraction_ltd_{pheno_col}.pdf', bbox_inches='tight', dpi=300,)\n",
    "    plt.savefig(f'{path_figs}/avidity/fraction_ltd_{pheno_col}.png', bbox_inches='tight', dpi=300,)\n",
    "    plt.show()"
   ]
  },
  {
   "cell_type": "markdown",
   "id": "7af5b79b",
   "metadata": {},
   "source": [
    "## UMAP level"
   ]
  },
  {
   "cell_type": "code",
   "execution_count": null,
   "id": "a94257e9",
   "metadata": {},
   "outputs": [],
   "source": [
    "palette_level = sb.color_palette('bright')\n",
    "palette_level = {\n",
    "    'high': palette_level[2],\n",
    "    'mid': palette_level[0],\n",
    "    'low': palette_level[3],\n",
    "}"
   ]
  },
  {
   "cell_type": "code",
   "execution_count": null,
   "id": "44577135",
   "metadata": {
    "scrolled": true
   },
   "outputs": [],
   "source": [
    "cats = [['A04'], ['A08'], ['A15'], ['A29'], ['HIM'], ['A04', 'A08', 'A15']] \n",
    "levels = ['level_IFNg_EC50', 'level_mTRBC_EC50', \n",
    "          'level_IFNg_EC50_top5', 'level_mTRBC_EC50_top5',\n",
    "         'level_IFNg_EC50_population_top5', 'level_mTRBC_EC50_population_top5']\n",
    "\n",
    "\n",
    "for level in levels:\n",
    "    fig, axes = plt.subplots(len(cats), len(time_order), figsize=(5*len(time_order), 5*len(cats)))\n",
    "\n",
    "    for j, donors in enumerate(cats):\n",
    "        for i, time in enumerate(time_order):\n",
    "            ax = axes[j][i]\n",
    "            sc.pl.umap(adata, ax=ax, show=False)\n",
    "\n",
    "            adata_tmp = adata[(adata.obs['donor'].isin(donors))\n",
    "                              & (adata.obs['time']==time) \n",
    "                              & (adata.obs[level].notna())\n",
    "                             & (~adata.obs['clone_id'].isin(new_cts))]\n",
    "\n",
    "            if len(adata_tmp) > 0:\n",
    "                sc.pl.umap(adata_tmp, color=level, ax=ax, show=False, \n",
    "                           size=len(adata)/1200*5, palette=palette_level,\n",
    "                          )\n",
    "                #if i != 4:\n",
    "                    #ax.collections[1].colorbar.remove()\n",
    "            ax.set_ylabel(None)\n",
    "            ax.set_xlabel(None)\n",
    "            ax.set_title(None)  \n",
    "            if i != 7 and j != 4:\n",
    "                ax.legend().remove()\n",
    "\n",
    "    for i, time in enumerate(time_order):\n",
    "        axes[0][i].set_title(time)\n",
    "\n",
    "    for j, donors in enumerate(cats):\n",
    "        axes[j][0].set_ylabel(','.join(donors))\n",
    "\n",
    "    fig.suptitle(level)\n",
    "\n",
    "    plt.tight_layout()\n",
    "    plt.savefig(f'{path_figs}/avidity/umap_{level}_over_donorTime.pdf', bbox_inches='tight', dpi=300,)\n",
    "    plt.savefig(f'{path_figs}/avidity/umap_{level}_over_donorTime.png', bbox_inches='tight', dpi=300,)\n",
    "    plt.show()"
   ]
  },
  {
   "cell_type": "markdown",
   "id": "c929d4af",
   "metadata": {},
   "source": [
    "### New clones"
   ]
  },
  {
   "cell_type": "code",
   "execution_count": null,
   "id": "9687e1a7",
   "metadata": {},
   "outputs": [],
   "source": [
    "fig, ax = plt.subplots(1, 1, figsize=(5.75, 5))\n",
    "sc.pl.umap(adata, ax=ax, show=False)\n",
    "\n",
    "adata.obs[f'log_score_IFNg_EC50'] = np.log10(adata.obs['score_IFNg_EC50'])\n",
    "\n",
    "adata_d = adata[adata.obs['clone_id'].isin(new_cts)]\n",
    "sc.pl.umap(adata_d[adata_d.obs['score_IFNg_EC50'].notna()], color='log_score_IFNg_EC50', s=len(adata)/1200*5, cmap=f'rocket_r',\n",
    "           ax=ax, show=False,\n",
    "          vmin=adata.obs['log_score_IFNg_EC50'].min(), vmax=adata.obs['log_score_IFNg_EC50'].max())\n",
    "\n",
    "plot = sc.pl.umap(adata_d[adata_d.obs['reactivity']=='unreactive'], color='reactivity', s=len(adata)/1200*5, palette=['silver'],\n",
    "           ax=ax, show=False)\n",
    "plot.legend().remove()\n",
    "plt.tight_layout()\n",
    "plt.savefig(f'{path_figs}/avidity/umap_ifngEC_newCTs.pdf', bbox_inches='tight', dpi=dpi)\n",
    "plt.savefig(f'{path_figs}/avidity/umap_ifngEC_newCTs.png', bbox_inches='tight', dpi=dpi)\n",
    "plt.show()"
   ]
  },
  {
   "cell_type": "code",
   "execution_count": null,
   "id": "0b5e92d2",
   "metadata": {},
   "outputs": [],
   "source": [
    "adata_d.obs['clone_id'].value_counts()"
   ]
  },
  {
   "cell_type": "markdown",
   "id": "43cbbfbe",
   "metadata": {},
   "source": [
    "### All Avidity"
   ]
  },
  {
   "cell_type": "code",
   "execution_count": null,
   "id": "7c5d6354",
   "metadata": {},
   "outputs": [],
   "source": [
    "fig, ax = plt.subplots(1, 1, figsize=(5.75, 5))\n",
    "sc.pl.umap(adata, ax=ax, show=False)\n",
    "\n",
    "adata_d = adata[~adata.obs['clone_id'].isin(new_cts)]\n",
    "sc.pl.umap(adata_d[adata_d.obs['score_IFNg_EC50'].notna()], color='log_score_IFNg_EC50', s=len(adata)/1200*2, cmap=f'rocket_r',\n",
    "           ax=ax, show=False,\n",
    "          vmin=adata.obs['log_score_IFNg_EC50'].min(), vmax=adata.obs['log_score_IFNg_EC50'].max())\n",
    "\n",
    "plot = sc.pl.umap(adata_d[adata_d.obs['reactivity']=='unreactive'], color='reactivity', s=len(adata)/1200*2, palette=['silver'],\n",
    "           ax=ax, show=False)\n",
    "plot.legend().remove()\n",
    "plt.tight_layout()\n",
    "plt.savefig(f'{path_figs}/avidity/umap_ifngEC_woNew.pdf', bbox_inches='tight', dpi=dpi)\n",
    "plt.savefig(f'{path_figs}/avidity/umap_ifngEC_woNew.png', bbox_inches='tight', dpi=dpi)\n",
    "plt.show()"
   ]
  },
  {
   "cell_type": "code",
   "execution_count": null,
   "id": "7425158f",
   "metadata": {},
   "outputs": [],
   "source": [
    "fig, ax = plt.subplots(1, 1, figsize=(5.75, 5))\n",
    "sc.pl.umap(adata, ax=ax, show=False)\n",
    "\n",
    "adata_d = adata\n",
    "sc.pl.umap(adata_d[adata_d.obs['score_IFNg_EC50'].notna()], color='log_score_IFNg_EC50', s=len(adata)/1200*2, cmap=f'rocket_r',\n",
    "           ax=ax, show=False,\n",
    "          vmin=adata.obs['log_score_IFNg_EC50'].min(), vmax=adata.obs['log_score_IFNg_EC50'].max())\n",
    "\n",
    "plot = sc.pl.umap(adata_d[adata_d.obs['reactivity']=='unreactive'], color='reactivity', s=len(adata)/1200*2, palette=['silver'],\n",
    "           ax=ax, show=False)\n",
    "plot.legend().remove()\n",
    "plt.tight_layout()\n",
    "plt.savefig(f'{path_figs}/avidity/umap_ifngEC.pdf', bbox_inches='tight', dpi=dpi)\n",
    "plt.savefig(f'{path_figs}/avidity/umap_ifngEC.png', bbox_inches='tight', dpi=dpi)\n",
    "plt.show()"
   ]
  },
  {
   "cell_type": "code",
   "execution_count": null,
   "id": "cd28f06f",
   "metadata": {},
   "outputs": [],
   "source": [
    "rcParams['figure.figsize'] = (5.5, 5)\n",
    "cmap = 'RdYlBu'\n",
    "\n",
    "for gene in ['log_score_IFNg_EC50']:\n",
    "    plot = sc.pl.umap(adata, show=False)\n",
    "    adata_tmp = adata[(adata.obs[gene].notna())]\n",
    "    size = 5\n",
    "    if len(adata_tmp) < 500:\n",
    "        size = 15\n",
    "    plot = sc.pl.umap(adata_tmp, color=gene, color_map=f'{cmap}', \n",
    "                      show=False, s=len(adata)/12000*size, ax=plot, #add_outline=True,\n",
    "                      #vmin=adata[:, 'MKI67'].X.min()\n",
    "                     )\n",
    "\n",
    "    plt.tight_layout()\n",
    "    plt.savefig(f'../../figures/dextramer/paper/umap_{gene}.pdf', bbox_inches='tight', dpi=dpi)\n",
    "    plt.savefig(f'../../figures/dextramer/paper/umap_{gene}.png', bbox_inches='tight', dpi=dpi)\n",
    "    plt.show()"
   ]
  },
  {
   "cell_type": "code",
   "execution_count": null,
   "id": "71dec718",
   "metadata": {},
   "outputs": [],
   "source": [
    "rcParams['figure.figsize'] = (5.5, 5)\n",
    "cmap = 'RdYlBu'\n",
    "size = 25\n",
    "\n",
    "gene = 'log_score_IFNg_EC50'\n",
    "\n",
    "adata_tmp = adata[adata.obs['reactivity'].notna()]\n",
    "\n",
    "plot = sc.pl.umap(adata, show=False)\n",
    "plot = sc.pl.umap(adata_tmp, color=gene, color_map=f'{cmap}', \n",
    "                  show=False, s=len(adata)/12000*size, ax=plot,\n",
    "                  vmin=adata.obs[gene].min(), vmax=adata.obs[gene].max()\n",
    "                 )\n",
    "plot = sc.pl.umap(adata_tmp[adata_tmp.obs['reactivity']=='unreactive'], color='reactivity', \n",
    "                  s=len(adata)/12000*size, palette=['silver'],\n",
    "                  ax=plot, show=False)\n",
    "plot.legend().remove()\n",
    "plot.set_title('LTD-YLQ all times')\n",
    "\n",
    "plt.tight_layout()\n",
    "plt.savefig(f'../../figures/dextramer/paper/umap_avidity_pooled.pdf', bbox_inches='tight', dpi=dpi)\n",
    "plt.savefig(f'../../figures/dextramer/paper/umap_avidity_pooled.png', bbox_inches='tight', dpi=dpi)\n",
    "plt.show()"
   ]
  },
  {
   "cell_type": "code",
   "execution_count": null,
   "id": "f5051eaf",
   "metadata": {},
   "outputs": [],
   "source": [
    "rcParams['figure.figsize'] = (5.5, 5)\n",
    "cmap = 'RdYlBu'\n",
    "size = 25\n",
    "\n",
    "gene = 'log_score_IFNg_EC50'\n",
    "\n",
    "adata_tmp = adata[adata.obs['reactivity'].notna()]\n",
    "\n",
    "plot = sc.pl.umap(adata, show=False)\n",
    "plot = sc.pl.umap(adata_tmp[adata_tmp.obs['donor']!='HIM'], color=gene, color_map=f'{cmap}', \n",
    "                  show=False, s=len(adata)/12000*size, ax=plot,\n",
    "                  vmin=adata.obs[gene].min(), vmax=adata.obs[gene].max()\n",
    "                 )\n",
    "plot = sc.pl.umap(adata_tmp[(adata_tmp.obs['reactivity']=='unreactive')\n",
    "                           & (adata_tmp.obs['donor']!='HIM')], color='reactivity', \n",
    "                  s=len(adata)/12000*size, palette=['silver'],\n",
    "                  ax=plot, show=False)\n",
    "plot.legend().remove()\n",
    "plot.set_title('LTD-YLQ all times')\n",
    "\n",
    "plt.tight_layout()\n",
    "plt.savefig(f'../../figures/dextramer/paper/umap_avidity_pooled_woHIM.pdf', bbox_inches='tight', dpi=dpi)\n",
    "plt.savefig(f'../../figures/dextramer/paper/umap_avidity_pooled_woHIM.png', bbox_inches='tight', dpi=dpi)\n",
    "plt.show()"
   ]
  },
  {
   "cell_type": "code",
   "execution_count": null,
   "id": "821cc234",
   "metadata": {},
   "outputs": [],
   "source": [
    "rcParams['figure.figsize'] = (5.5, 5)\n",
    "cmap = 'RdYlBu'\n",
    "size = 25\n",
    "\n",
    "gene = 'log_score_IFNg_EC50'\n",
    "\n",
    "adata_tmp = adata[adata.obs['reactivity'].notna() \n",
    "                 & (~adata.obs['clone_id'].isin(new_cts))]\n",
    "\n",
    "plot = sc.pl.umap(adata, show=False)\n",
    "plot = sc.pl.umap(adata_tmp, color=gene, color_map=f'{cmap}', \n",
    "                  show=False, s=len(adata)/12000*size, ax=plot,\n",
    "                  vmin=adata.obs[gene].min(), vmax=adata.obs[gene].max()\n",
    "                 )\n",
    "plot = sc.pl.umap(adata_tmp[(adata_tmp.obs['reactivity']=='unreactive')], color='reactivity', \n",
    "                  s=len(adata)/12000*size, palette=['silver'],\n",
    "                  ax=plot, show=False)\n",
    "plot.legend().remove()\n",
    "plot.set_title('LTD-YLQ all times - wo New clones')\n",
    "\n",
    "plt.tight_layout()\n",
    "plt.savefig(f'../../figures/dextramer/paper/umap_avidity_pooled_woNewClones.pdf', bbox_inches='tight', dpi=dpi)\n",
    "plt.savefig(f'../../figures/dextramer/paper/umap_avidity_pooled_woNewClones.png', bbox_inches='tight', dpi=dpi)\n",
    "plt.show()"
   ]
  },
  {
   "cell_type": "code",
   "execution_count": null,
   "id": "12c0d2c7",
   "metadata": {
    "scrolled": false
   },
   "outputs": [],
   "source": [
    "rcParams['figure.figsize'] = (5.5, 5)\n",
    "cmap = 'RdYlBu'\n",
    "size = 25\n",
    "\n",
    "gene = 'log_score_IFNg_EC50'\n",
    "\n",
    "adata_tmp = adata[adata.obs['reactivity'].notna() \n",
    "                 & (~adata.obs['clone_id'].isin(new_cts))]\n",
    "\n",
    "plot = sc.pl.umap(adata, show=False)\n",
    "plot = sc.pl.umap(adata_tmp[adata_tmp.obs['donor']!='HIM'], color=gene, color_map=f'{cmap}', \n",
    "                  show=False, s=len(adata)/12000*size, ax=plot,\n",
    "                  vmin=adata.obs[gene].min(), vmax=adata.obs[gene].max()\n",
    "                 )\n",
    "plot = sc.pl.umap(adata_tmp[(adata_tmp.obs['reactivity']=='unreactive')\n",
    "                           &( adata_tmp.obs['donor']!='HIM')], color='reactivity', \n",
    "                  s=len(adata)/12000*size, palette=['silver'],\n",
    "                  ax=plot, show=False)\n",
    "plot.legend().remove()\n",
    "plot.set_title('LTD-YLQ all times - wo New clones / HIM')\n",
    "\n",
    "plt.tight_layout()\n",
    "plt.savefig(f'../../figures/dextramer/paper/umap_avidity_pooled_woNewClones_woHIM.pdf', bbox_inches='tight', dpi=dpi)\n",
    "plt.savefig(f'../../figures/dextramer/paper/umap_avidity_pooled_woNewClones_woHIM.png', bbox_inches='tight', dpi=dpi)\n",
    "plt.show()"
   ]
  },
  {
   "cell_type": "code",
   "execution_count": null,
   "id": "8e40f79c",
   "metadata": {},
   "outputs": [],
   "source": [
    "rcParams['figure.figsize'] = (5.5, 5)\n",
    "cmap = 'RdYlBu'\n",
    "size = 25\n",
    "\n",
    "gene = 'log_score_IFNg_EC50'\n",
    "\n",
    "adata_tmp = adata[adata.obs['reactivity'].notna() \n",
    "                 & (adata.obs['donor']=='HIM')]\n",
    "\n",
    "plot = sc.pl.umap(adata, show=False)\n",
    "plot = sc.pl.umap(adata_tmp, color=gene, color_map=f'{cmap}', \n",
    "                  show=False, s=len(adata)/12000*size, ax=plot,\n",
    "                  vmin=adata.obs[gene].min(), vmax=adata.obs[gene].max()\n",
    "                 )\n",
    "plot = sc.pl.umap(adata_tmp[adata_tmp.obs['reactivity']=='unreactive'], color='reactivity', \n",
    "                  s=len(adata)/12000*size, palette=['silver'],\n",
    "                  ax=plot, show=False)\n",
    "plot.legend().remove()\n",
    "plot.set_title('HIM')\n",
    "\n",
    "plt.tight_layout()\n",
    "plt.savefig(f'../../figures/dextramer/paper/umap_avidity_him.pdf', bbox_inches='tight', dpi=dpi)\n",
    "plt.savefig(f'../../figures/dextramer/paper/umap_avidity_him.png', bbox_inches='tight', dpi=dpi)\n",
    "plt.show()"
   ]
  },
  {
   "cell_type": "code",
   "execution_count": null,
   "id": "3799b291",
   "metadata": {},
   "outputs": [],
   "source": [
    "rcParams['figure.figsize'] = (5.5, 5)\n",
    "cmap = 'RdYlBu'\n",
    "size = 25\n",
    "\n",
    "gene = 'log_score_IFNg_EC50'\n",
    "\n",
    "adata_tmp = adata[adata.obs['clone_id'].isin(new_cts)]\n",
    "\n",
    "plot = sc.pl.umap(adata, show=False)\n",
    "plot = sc.pl.umap(adata_tmp, color=gene, color_map=f'{cmap}', \n",
    "                  show=False, s=len(adata)/12000*size, ax=plot, #add_outline=True,\n",
    "                  vmin=adata.obs[gene].min(), vmax=adata.obs[gene].max()\n",
    "                 )\n",
    "plot = sc.pl.umap(adata_tmp[adata_tmp.obs['reactivity']=='unreactive'], color='reactivity', \n",
    "                  s=len(adata)/12000*size, palette=['silver'],\n",
    "                  ax=plot, show=False)\n",
    "plot.legend().remove()\n",
    "plot.set_title('New Clones')\n",
    "\n",
    "plt.tight_layout()\n",
    "plt.savefig(f'../../figures/dextramer/paper/umap_avidity_newCTs.pdf', bbox_inches='tight', dpi=dpi)\n",
    "plt.savefig(f'../../figures/dextramer/paper/umap_avidity_newCTs.png', bbox_inches='tight', dpi=dpi)\n",
    "plt.show()"
   ]
  },
  {
   "cell_type": "code",
   "execution_count": null,
   "id": "09db4a1f",
   "metadata": {
    "scrolled": true
   },
   "outputs": [],
   "source": [
    "rcParams['figure.figsize'] = (5.5, 5)\n",
    "cmap = 'RdYlBu'\n",
    "size = 25\n",
    "\n",
    "gene = 'log_score_IFNg_EC50'\n",
    "\n",
    "fig, axes = plt.subplots(1, len(time_order), figsize=(5*len(time_order), 5))\n",
    "\n",
    "for i, t in enumerate(time_order):\n",
    "    ax = axes[i]\n",
    "    adata_tmp = adata[adata.obs['reactivity'].notna() \n",
    "                      & (~adata.obs['clone_id'].isin(new_cts))\n",
    "                     & (adata.obs['time']==t)\n",
    "                     & (adata.obs['binding_ct']=='LTDEMIAQY')]\n",
    "\n",
    "    plot = sc.pl.umap(adata, show=False, ax=ax)\n",
    "    plot = sc.pl.umap(adata_tmp, color=gene, color_map=f'{cmap}', \n",
    "                      show=False, s=len(adata)/12000*size, ax=plot,\n",
    "                      vmin=adata[adata.obs['binding_ct']=='LTDEMIAQY'].obs[gene].min(), \n",
    "                      vmax=adata[adata.obs['binding_ct']=='LTDEMIAQY'].obs[gene].max()\n",
    "                     )\n",
    "    plot = sc.pl.umap(adata_tmp[adata_tmp.obs['reactivity']=='unreactive'], color='reactivity', \n",
    "                      s=len(adata)/12000*size, palette=['silver'],\n",
    "                      ax=plot, show=False)\n",
    "    plot.legend().remove()\n",
    "    \n",
    "    plot.set_title(t)\n",
    "    plot.set_xlabel(None)\n",
    "    plot.set_ylabel(None)\n",
    "    \n",
    "    if i != 7:\n",
    "        ax.collections[1].colorbar.remove()\n",
    "\n",
    "fig.suptitle('LTD longitudinal')\n",
    "\n",
    "plt.tight_layout()\n",
    "plt.savefig(f'../../figures/dextramer/paper/umap_avidity_LTD_longitudinal.pdf', bbox_inches='tight', dpi=dpi)\n",
    "plt.savefig(f'../../figures/dextramer/paper/umap_avidity_LTD_longitudinal.png', bbox_inches='tight', dpi=dpi)\n",
    "plt.show()"
   ]
  },
  {
   "cell_type": "code",
   "execution_count": null,
   "id": "e54e0376",
   "metadata": {
    "scrolled": true
   },
   "outputs": [],
   "source": [
    "rcParams['figure.figsize'] = (5.5, 5)\n",
    "cmap = 'RdYlBu'\n",
    "size = 25\n",
    "\n",
    "gene = 'log_score_IFNg_EC50'\n",
    "\n",
    "fig, axes = plt.subplots(1, len(time_order), figsize=(5*len(time_order), 5))\n",
    "\n",
    "for i, t in enumerate(time_order):\n",
    "    ax = axes[i]\n",
    "    adata_tmp = adata[adata.obs['reactivity'].notna() \n",
    "                      & (~adata.obs['clone_id'].isin(new_cts))\n",
    "                     & (adata.obs['time']==t)\n",
    "                     & (adata.obs['binding_ct']=='LTDEMIAQY')]\n",
    "\n",
    "    plot = sc.pl.umap(adata, show=False, ax=ax)\n",
    "    plot = sc.pl.umap(adata_tmp, color=gene, color_map=f'{cmap}', \n",
    "                      show=False, s=len(adata)/12000*size, ax=plot,\n",
    "                      vmin=adata.obs[gene].min(), \n",
    "                      vmax=adata.obs[gene].max()\n",
    "                     )\n",
    "    plot = sc.pl.umap(adata_tmp[adata_tmp.obs['reactivity']=='unreactive'], color='reactivity', \n",
    "                      s=len(adata)/12000*size, palette=['silver'],\n",
    "                      ax=plot, show=False)\n",
    "    plot.legend().remove()\n",
    "    \n",
    "    plot.set_title(t)\n",
    "    plot.set_xlabel(None)\n",
    "    plot.set_ylabel(None)\n",
    "    \n",
    "    if i != 7:\n",
    "        ax.collections[1].colorbar.remove()\n",
    "\n",
    "fig.suptitle('LTD longitudinal')\n",
    "\n",
    "plt.tight_layout()\n",
    "plt.savefig(f'../../figures/dextramer/paper/umap_avidity_LTD_longitudinal_fullScale.pdf', bbox_inches='tight', dpi=dpi)\n",
    "plt.savefig(f'../../figures/dextramer/paper/umap_avidity_LTD_longitudinal_fullScale.png', bbox_inches='tight', dpi=dpi)\n",
    "plt.show()"
   ]
  },
  {
   "cell_type": "code",
   "execution_count": null,
   "id": "e72aa432",
   "metadata": {
    "scrolled": true
   },
   "outputs": [],
   "source": [
    "rcParams['figure.figsize'] = (5.5, 5)\n",
    "cmap = 'RdYlBu'\n",
    "size = 25\n",
    "\n",
    "gene = 'log_score_IFNg_EC50'\n",
    "\n",
    "\n",
    "for i, t in enumerate(time_order):\n",
    "    fig, ax = plt.subplots(1, 1, figsize=(5, 5) if i != 7 else (5.25, 5))\n",
    "    adata_tmp = adata[adata.obs['reactivity'].notna() \n",
    "                      & (~adata.obs['clone_id'].isin(new_cts))\n",
    "                     & (adata.obs['time']==t)\n",
    "                     & (adata.obs['binding_ct']=='LTDEMIAQY')]\n",
    "\n",
    "    plot = sc.pl.umap(adata, show=False, ax=ax)\n",
    "    plot = sc.pl.umap(adata_tmp, color=gene, color_map=f'{cmap}', \n",
    "                      show=False, s=len(adata)/12000*size, ax=plot,\n",
    "                      vmin=adata.obs[gene].min(), \n",
    "                      vmax=adata.obs[gene].max()\n",
    "                     )\n",
    "    plot = sc.pl.umap(adata_tmp[(adata_tmp.obs['reactivity']=='unreactive')\n",
    "                               | (adata_tmp.obs['clone_id']=='1276.0')], color='reactivity', \n",
    "                      s=len(adata)/12000*size, palette=['silver'],\n",
    "                      ax=plot, show=False)\n",
    "    plot.legend().remove()\n",
    "    \n",
    "    plot.set_title(t)\n",
    "    plot.set_xlabel(None)\n",
    "    plot.set_ylabel(None)\n",
    "    \n",
    "    if i != 7:\n",
    "        ax.collections[1].colorbar.remove()\n",
    "\n",
    "    plt.tight_layout()\n",
    "    plt.savefig(f'../../figures/dextramer/paper/umap_avidity_LTD_longitudinal_fullScale_{t}.pdf', bbox_inches='tight', dpi=dpi)\n",
    "    plt.savefig(f'../../figures/dextramer/paper/umap_avidity_LTD_longitudinal_fullScale_{t}.png', bbox_inches='tight', dpi=dpi)\n",
    "    plt.show()"
   ]
  },
  {
   "cell_type": "code",
   "execution_count": null,
   "id": "f1e61f9d",
   "metadata": {
    "scrolled": true
   },
   "outputs": [],
   "source": [
    "rcParams['figure.figsize'] = (5.5, 5)\n",
    "cmap = 'RdYlBu'\n",
    "size = 25\n",
    "\n",
    "gene = 'log_score_IFNg_EC50'\n",
    "\n",
    "fig, axes = plt.subplots(1, len(time_order), figsize=(5*len(time_order), 5))\n",
    "\n",
    "for i, t in enumerate(time_order):\n",
    "    ax = axes[i]\n",
    "    adata_tmp = adata[adata.obs['reactivity'].notna() \n",
    "                      & (~adata.obs['clone_id'].isin(new_cts))\n",
    "                     & (adata.obs['time']==t)\n",
    "                     & (adata.obs['binding_ct']=='YLQPRTFLL')]\n",
    "\n",
    "    plot = sc.pl.umap(adata, show=False, ax=ax)\n",
    "    plot = sc.pl.umap(adata_tmp, color=gene, color_map=f'{cmap}', \n",
    "                      show=False, s=len(adata)/12000*size, ax=plot,\n",
    "                      vmin=adata.obs[gene].min(), \n",
    "                      vmax=adata.obs[gene].max()\n",
    "                     )\n",
    "    plot = sc.pl.umap(adata_tmp[adata_tmp.obs['reactivity']=='unreactive'], color='reactivity', \n",
    "                      s=len(adata)/12000*size, palette=['silver'],\n",
    "                      ax=plot, show=False)\n",
    "    plot.legend().remove()\n",
    "    \n",
    "    plot.set_title(t)\n",
    "    plot.set_xlabel(None)\n",
    "    plot.set_ylabel(None)\n",
    "    \n",
    "    if i != 7:\n",
    "        ax.collections[1].colorbar.remove()\n",
    "\n",
    "fig.suptitle('YLQ longitudinal')\n",
    "\n",
    "plt.tight_layout()\n",
    "plt.savefig(f'../../figures/dextramer/paper/umap_avidity_YLQ_longitudinal.pdf', bbox_inches='tight', dpi=dpi)\n",
    "plt.savefig(f'../../figures/dextramer/paper/umap_avidity_YLQ_longitudinal.png', bbox_inches='tight', dpi=dpi)\n",
    "plt.show()"
   ]
  },
  {
   "cell_type": "code",
   "execution_count": null,
   "id": "fcdfb33e",
   "metadata": {
    "scrolled": true
   },
   "outputs": [],
   "source": [
    "rcParams['figure.figsize'] = (5.5, 5)\n",
    "cmap = 'RdYlBu'\n",
    "size = 25\n",
    "\n",
    "gene = 'log_score_IFNg_EC50'\n",
    "\n",
    "fig, axes = plt.subplots(1, len(time_order), figsize=(5*len(time_order), 5))\n",
    "\n",
    "for i, t in enumerate(time_order):\n",
    "    ax = axes[i]\n",
    "    adata_tmp = adata[adata.obs['reactivity'].notna() \n",
    "                      & (~adata.obs['clone_id'].isin(new_cts))\n",
    "                     & (adata.obs['time']==t)\n",
    "                     & (adata.obs['binding_ct']=='YLQPRTFLL')]\n",
    "\n",
    "    plot = sc.pl.umap(adata, show=False, ax=ax)\n",
    "    plot = sc.pl.umap(adata_tmp, color=gene, color_map=f'{cmap}', \n",
    "                      show=False, s=len(adata)/12000*size, ax=plot,\n",
    "                      vmin=adata[adata.obs['binding_ct']=='YLQPRTFLL'].obs[gene].min(), \n",
    "                      vmax=adata[adata.obs['binding_ct']=='YLQPRTFLL'].obs[gene].max()\n",
    "                     )\n",
    "    plot = sc.pl.umap(adata_tmp[adata_tmp.obs['reactivity']=='unreactive'], color='reactivity', \n",
    "                      s=len(adata)/12000*size, palette=['silver'],\n",
    "                      ax=plot, show=False)\n",
    "    plot.legend().remove()\n",
    "    \n",
    "    plot.set_title(t)\n",
    "    plot.set_xlabel(None)\n",
    "    plot.set_ylabel(None)\n",
    "    \n",
    "    if i != 7:\n",
    "        ax.collections[1].colorbar.remove()\n",
    "\n",
    "fig.suptitle('YLQ longitudinal')\n",
    "\n",
    "plt.tight_layout()\n",
    "plt.savefig(f'../../figures/dextramer/paper/umap_avidity_YLQ_longitudinal_fullScale.pdf', bbox_inches='tight', dpi=dpi)\n",
    "plt.savefig(f'../../figures/dextramer/paper/umap_avidity_YLQ_longitudinal_fullScale.png', bbox_inches='tight', dpi=dpi)\n",
    "plt.show()"
   ]
  },
  {
   "cell_type": "code",
   "execution_count": null,
   "id": "0f8ec6ea",
   "metadata": {
    "scrolled": true
   },
   "outputs": [],
   "source": [
    "rcParams['figure.figsize'] = (5.5, 5)\n",
    "cmap = 'RdYlBu'\n",
    "size = 25\n",
    "\n",
    "gene = 'log_score_IFNg_EC50'\n",
    "\n",
    "\n",
    "for i, t in enumerate(time_order):\n",
    "    fig, ax = plt.subplots(1, 1, figsize=(5, 5) if i != 7 else (5.25, 5))\n",
    "    adata_tmp = adata[adata.obs['reactivity'].notna() \n",
    "                      & (~adata.obs['clone_id'].isin(new_cts))\n",
    "                     & (adata.obs['time']==t)\n",
    "                     & (adata.obs['binding_ct']=='YLQPRTFLL')]\n",
    "\n",
    "    plot = sc.pl.umap(adata, show=False, ax=ax)\n",
    "    plot = sc.pl.umap(adata_tmp, color=gene, color_map=f'{cmap}', \n",
    "                      show=False, s=len(adata)/12000*size, ax=plot,\n",
    "                      vmin=adata[adata.obs['binding_ct']=='YLQPRTFLL'].obs[gene].min(), \n",
    "                      vmax=adata[adata.obs['binding_ct']=='YLQPRTFLL'].obs[gene].max()\n",
    "                     )\n",
    "    plot = sc.pl.umap(adata_tmp[adata_tmp.obs['reactivity']=='unreactive'], color='reactivity', \n",
    "                      s=len(adata)/12000*size, palette=['silver'],\n",
    "                      ax=plot, show=False)\n",
    "    plot.legend().remove()\n",
    "    \n",
    "    plot.set_title(t)\n",
    "    plot.set_xlabel(None)\n",
    "    plot.set_ylabel(None)\n",
    "    \n",
    "    if i != 7:\n",
    "        ax.collections[1].colorbar.remove()\n",
    "\n",
    "    plt.tight_layout()\n",
    "    plt.savefig(f'../../figures/dextramer/paper/umap_avidity_YLQ_longitudinal_fullScale_{t}.pdf', bbox_inches='tight', dpi=dpi)\n",
    "    plt.savefig(f'../../figures/dextramer/paper/umap_avidity_YLQ_longitudinal_fullScale_{t}.png', bbox_inches='tight', dpi=dpi)\n",
    "    plt.show()"
   ]
  },
  {
   "cell_type": "markdown",
   "id": "158f79ed",
   "metadata": {},
   "source": [
    "## Genes"
   ]
  },
  {
   "cell_type": "code",
   "execution_count": null,
   "id": "ba18bad6",
   "metadata": {
    "scrolled": true
   },
   "outputs": [],
   "source": [
    "rcParams['figure.figsize'] = (6, 4)\n",
    "\n",
    "for level in levels:\n",
    "    for time in ['allTime'] + time_order:\n",
    "        for donors in [['A04', 'A08', 'A15'], ['A29'], ['HIM']]:\n",
    "            for gene in ['IFNG', 'MKI67', \n",
    "                         'IFN Response_score', 'Proliferation_score', 'CD8 Cytotoxic_score', 'CD8 Cytokine_score'\n",
    "                        ] + kegg_scores:\n",
    "                adata_tmp = adata[adata.obs[level].notna()\n",
    "                                 & adata.obs['donor'].isin(donors)\n",
    "                                 & (~adata.obs['clone_id'].isin(new_cts))]\n",
    "                if time != 'allTime':\n",
    "                    adata_tmp = adata_tmp[adata_tmp.obs['time']==time]\n",
    "                if len(adata_tmp) == 0:\n",
    "                    continue\n",
    "                if 'score' in gene:\n",
    "                    gene_vals = adata_tmp.obs[gene].values.reshape(-1)\n",
    "                else: \n",
    "                    gene_vals = adata_tmp[:, gene].X.A.reshape(-1)\n",
    "                df_tmp = pd.DataFrame({\n",
    "                    level: adata_tmp.obs[level].tolist(),\n",
    "                    gene: gene_vals})\n",
    "                plot = sb.stripplot(data=df_tmp, y=gene, x=level, palette=palette_level, order=['low', 'mid', 'high'])\n",
    "                plot.set_title(','.join(donors) + ' ' + time)\n",
    "                plt.tight_layout()\n",
    "                plt.savefig(f'{path_figs}/avidity/scores/{gene}_over_{level}_{\",\".join(donors)}_{time}.pdf', \n",
    "                            bbox_inches='tight', dpi=300,)\n",
    "                plt.show()"
   ]
  },
  {
   "cell_type": "markdown",
   "id": "3766a6d1",
   "metadata": {},
   "source": [
    "## Expansion level"
   ]
  },
  {
   "cell_type": "code",
   "execution_count": null,
   "id": "aa2f2ae4",
   "metadata": {},
   "outputs": [],
   "source": [
    "adata.obs['level_exp'] = np.nan\n",
    "for donor in ['A04', 'A08', 'A15', 'A29', 'HIM']:\n",
    "    cts_count = adata[\n",
    "        adata.obs['binding_ct'].isin(['LTDEMIAQY', 'YLQPRTFLL'])\n",
    "        & (adata.obs['donor']==donor)\n",
    "    ].obs[['clone_id', 'clone_size_donor']].drop_duplicates().reset_index(drop=True)\n",
    "    cts_count = cts_count[cts_count['clone_id']!='nan']\n",
    "    cts_count = cts_count[~cts_count['clone_id'].isin(['11964.0', '8191.0'])]\n",
    "    cts_high = cts_count[cts_count['clone_size_donor']>4]['clone_id'].values.tolist()\n",
    "    cts_low = cts_count[cts_count['clone_size_donor']==1]['clone_id'].values.tolist()\n",
    "    cts_mid = cts_count[(cts_count['clone_size_donor']>1) \n",
    "                        & (cts_count['clone_size_donor']<5)]['clone_id'].values.tolist()\n",
    "    adata.obs.loc[(adata.obs['donor']==donor) & (adata.obs['clone_id'].isin(cts_high)), 'level_exp'] = 'high expanding'\n",
    "    adata.obs.loc[(adata.obs['donor']==donor) & (adata.obs['clone_id'].isin(cts_mid)), 'level_exp'] = 'mid expanding'\n",
    "    adata.obs.loc[(adata.obs['donor']==donor) & (adata.obs['clone_id'].isin(cts_low)), 'level_exp'] = 'low expanding'\n",
    "adata.obs['level_exp'].value_counts()"
   ]
  },
  {
   "cell_type": "code",
   "execution_count": null,
   "id": "a7e44c06",
   "metadata": {},
   "outputs": [],
   "source": [
    "adata.obs['level_expT1'] = np.nan\n",
    "for donor in ['A04', 'A08', 'A15', 'A29', 'HIM']:\n",
    "    cts_count = adata[\n",
    "            adata.obs['binding_ct'].isin(['LTDEMIAQY', 'YLQPRTFLL'])\n",
    "            & (adata.obs['donor']==donor)\n",
    "            & (adata.obs['clone_id']!='nan')\n",
    "        & (adata.obs['time']=='T1')\n",
    "        ].obs['clone_id'].value_counts()\n",
    "    cts_count = cts_count[~cts_count.index.isin(['11964.0', '8191.0'])]\n",
    "    \n",
    "    cts_high = cts_count[cts_count>4].index.tolist()\n",
    "    cts_low = cts_count[cts_count==1].index.values.tolist()\n",
    "    cts_mid = cts_count[(cts_count>1) \n",
    "                        & (cts_count<5)].index.values.tolist()\n",
    "    \n",
    "    adata.obs.loc[(adata.obs['donor']==donor) & adata.obs['binding_ct'].isin(['LTDEMIAQY', 'YLQPRTFLL'])\n",
    "                  & (~adata.obs['clone_id'].isin(['11964.0', '8191.0'])),\n",
    "                  'level_expT1'] = 'non expanding'\n",
    "    adata.obs.loc[(adata.obs['donor']==donor) & (adata.obs['clone_id'].isin(cts_low)), 'level_expT1'] = 'low expanding'\n",
    "    adata.obs.loc[(adata.obs['donor']==donor) & (adata.obs['clone_id'].isin(cts_high)), 'level_expT1'] = 'high expanding'\n",
    "    adata.obs.loc[(adata.obs['donor']==donor) & (adata.obs['clone_id'].isin(cts_mid)), 'level_expT1'] = 'mid expanding'\n",
    "    \n",
    "adata.obs['level_expT1'].value_counts()"
   ]
  },
  {
   "cell_type": "code",
   "execution_count": null,
   "id": "38c09769",
   "metadata": {},
   "outputs": [],
   "source": [
    "levels_exp = ['level_exp', 'level_expT1']"
   ]
  },
  {
   "cell_type": "markdown",
   "id": "6de34405",
   "metadata": {},
   "source": [
    "### DEG "
   ]
  },
  {
   "cell_type": "code",
   "execution_count": null,
   "id": "1b361368",
   "metadata": {
    "scrolled": true
   },
   "outputs": [],
   "source": [
    "for level in levels_exp:\n",
    "    sc.pp.highly_variable_genes(adata, n_top_genes=5000)\n",
    "    \n",
    "    for donors in [['A04', 'A08', 'A15'], ['HIM'], ['A29']]:\n",
    "        if 'HIM' in donors and level == 'level_expT1':\n",
    "            continue\n",
    "        adata_tmp = adata[:, adata.var['highly_variable']]\n",
    "        adata_tmp = adata_tmp[adata_tmp.obs['donor'].isin(donors)]\n",
    "        adata_tmp = adata_tmp[adata_tmp.obs[level].notna()]\n",
    "        sc.tl.rank_genes_groups(adata_tmp, groupby=level)\n",
    "\n",
    "        dict_deg = {}\n",
    "        for cluster in adata_tmp.obs[level].unique():\n",
    "            names = adata_tmp.uns['rank_genes_groups']['names'][cluster].tolist()\n",
    "            scores = adata_tmp.uns['rank_genes_groups']['scores'][cluster].tolist()\n",
    "            pvals = adata_tmp.uns['rank_genes_groups']['pvals_adj'][cluster].tolist()\n",
    "            dict_deg[f'{cluster}_gene'] = names\n",
    "            dict_deg[f'{cluster}_scores'] = scores\n",
    "            dict_deg[f'{cluster}_pValsAdj'] = pvals\n",
    "\n",
    "        df_degs = pd.DataFrame(dict_deg)\n",
    "        df_degs = df_degs[sorted(df_degs.columns.tolist())]\n",
    "        df_degs.to_csv(f'../../results/dextramer/CD8/DEGs/deg_gex_{\",\".join(donors)}_{level}.csv')\n",
    "\n",
    "\n",
    "        adata_cite = ann.AnnData(X=adata_tmp.obs[[f'clr_{el}' for el in cite_ids]\n",
    "                                            ].values, obs=adata_tmp.obs[[level] + cite_ids.tolist()])\n",
    "        adata_cite.var_names = cite_ids\n",
    "        adata_cite = adata_cite[~adata_cite.obs[cite_ids[0]].isna()]\n",
    "\n",
    "        try:\n",
    "            sc.tl.rank_genes_groups(adata_cite, groupby=level)\n",
    "\n",
    "            dict_deg = {}\n",
    "            for cluster in adata_cite.obs[level].unique():\n",
    "                names = adata_cite.uns['rank_genes_groups']['names'][cluster].tolist()\n",
    "                scores = adata_cite.uns['rank_genes_groups']['scores'][cluster].tolist()\n",
    "                pvals = adata_cite.uns['rank_genes_groups']['pvals_adj'][cluster].tolist()\n",
    "                dict_deg[f'{cluster}_gene'] = names\n",
    "                dict_deg[f'{cluster}_scores'] = scores\n",
    "                dict_deg[f'{cluster}_pValsAdj'] = pvals\n",
    "\n",
    "            df_degs = pd.DataFrame(dict_deg)\n",
    "            df_degs = df_degs[sorted(df_degs.columns.tolist())]\n",
    "            df_degs.to_csv(f'../../results/dextramer/CD8/DEGs/deg_cite_{\",\".join(donors)}_{level}.csv')\n",
    "        except Exception as e:\n",
    "            print(e)\n"
   ]
  },
  {
   "cell_type": "markdown",
   "id": "ea0d0814",
   "metadata": {},
   "source": [
    "### UMAP"
   ]
  },
  {
   "cell_type": "code",
   "execution_count": null,
   "id": "ffddc022",
   "metadata": {},
   "outputs": [],
   "source": [
    "palette_level_exp = sb.color_palette('muted')\n",
    "palette_level_exp = {\n",
    "    'high expanding': palette_level_exp[2],\n",
    "    'mid expanding': palette_level_exp[0],\n",
    "    'low expanding': palette_level_exp[3],\n",
    "    'non expanding': palette_level_exp[8],\n",
    "}"
   ]
  },
  {
   "cell_type": "code",
   "execution_count": null,
   "id": "586b7617",
   "metadata": {},
   "outputs": [],
   "source": [
    "cats = [['A04'], ['A08'], ['A15'], ['A29'], ['HIM'], ['A04', 'A08', 'A15']] \n",
    "\n",
    "for level in levels_exp:\n",
    "    fig, axes = plt.subplots(len(cats), len(time_order), figsize=(5*len(time_order), 5*len(cats)))\n",
    "\n",
    "    for j, donors in enumerate(cats):\n",
    "        for i, time in enumerate(time_order):\n",
    "            ax = axes[j][i]\n",
    "            sc.pl.umap(adata, ax=ax, show=False)\n",
    "\n",
    "            adata_tmp = adata[(adata.obs['donor'].isin(donors))\n",
    "                              & (adata.obs['time']==time) \n",
    "                              & (adata.obs[level].notna())]\n",
    "\n",
    "            if len(adata_tmp) > 0:\n",
    "                sc.pl.umap(adata_tmp, color=level, ax=ax, show=False, \n",
    "                           size=len(adata)/1200*5, palette=palette_level_exp,\n",
    "                          )\n",
    "                #if i != 4:\n",
    "                    #ax.collections[1].colorbar.remove()\n",
    "            ax.set_ylabel(None)\n",
    "            ax.set_xlabel(None)\n",
    "            ax.set_title(None)  \n",
    "            if i != 7 and j != 4:\n",
    "                ax.legend().remove()\n",
    "\n",
    "    for i, time in enumerate(time_order):\n",
    "        axes[0][i].set_title(time)\n",
    "\n",
    "    for j, donors in enumerate(cats):\n",
    "        axes[j][0].set_ylabel(','.join(donors))\n",
    "\n",
    "    fig.suptitle(level)\n",
    "\n",
    "    plt.tight_layout()\n",
    "    plt.savefig(f'{path_figs}/avidity/umap_{level}_over_donorTime.pdf', bbox_inches='tight', dpi=300,)\n",
    "    plt.savefig(f'{path_figs}/avidity/umap_{level}_over_donorTime.png', bbox_inches='tight', dpi=300,)\n",
    "    plt.show()"
   ]
  },
  {
   "cell_type": "markdown",
   "id": "3f617794",
   "metadata": {},
   "source": [
    "### Scores"
   ]
  },
  {
   "cell_type": "code",
   "execution_count": null,
   "id": "8bbdd9fa",
   "metadata": {},
   "outputs": [],
   "source": [
    "rcParams['figure.figsize'] = (8, 4)\n",
    "\n",
    "for level in levels_exp:\n",
    "    for time in ['allTime'] + time_order:\n",
    "        for donors in [['A04', 'A08', 'A15'], ['A29'], ['HIM']]:\n",
    "            if level == 'level_expT1' and 'HIM' in donors:\n",
    "                continue\n",
    "            for gene in ['IFNG', 'MKI67', \n",
    "                         'IFN Response_score', 'Proliferation_score', 'CD8 Cytotoxic_score', 'CD8 Cytokine_score'\n",
    "                         ] + kegg_scores:\n",
    "                adata_tmp = adata[adata.obs[level].notna()\n",
    "                                 & adata.obs['donor'].isin(donors)]\n",
    "                if time != 'allTime':\n",
    "                    adata_tmp = adata_tmp[adata_tmp.obs['time']==time]\n",
    "                if len(adata_tmp) == 0:\n",
    "                    continue\n",
    "                if 'score' in gene:\n",
    "                    gene_vals = adata_tmp.obs[gene].values.reshape(-1)\n",
    "                else: \n",
    "                    gene_vals = adata_tmp[:, gene].X.A.reshape(-1)\n",
    "                df_tmp = pd.DataFrame({\n",
    "                    level: adata_tmp.obs[level].tolist(),\n",
    "                    gene: gene_vals})\n",
    "                order = [el for el in ['high expanding', 'mid expanding', 'low expanding', 'non expanding'] \n",
    "                         if el in adata.obs[level].values]\n",
    "\n",
    "                plot = sb.stripplot(data=df_tmp, y=gene, x=level, palette=palette_level_exp, \n",
    "                                    order=order)\n",
    "                plot.set_title(','.join(donors) + ' ' + time)\n",
    "                plt.tight_layout()\n",
    "                plt.savefig(f'{path_figs}/avidity/scores_exp/{gene}_over_{level}_{\",\".join(donors)}_{time}.pdf', \n",
    "                            bbox_inches='tight', dpi=300,)\n",
    "                plt.show()"
   ]
  },
  {
   "cell_type": "markdown",
   "id": "35cde5fa",
   "metadata": {},
   "source": [
    "## Avidity vs Cluster 3"
   ]
  },
  {
   "cell_type": "code",
   "execution_count": null,
   "id": "3805feeb",
   "metadata": {},
   "outputs": [],
   "source": [
    "df_tmp = adata[adata.obs['log_score_IFNg_EC50'].notna()\n",
    "              & (adata.obs['donor']!='HIM')\n",
    "              ].obs[['clone_id', 'log_score_IFNg_EC50']].drop_duplicates()\n",
    "df_tmp = df_tmp.sort_values('log_score_IFNg_EC50')\n",
    "df_tmp = df_tmp.set_index('clone_id')\n",
    "\n",
    "fractions_top = []\n",
    "fraction_ct = []\n",
    "for i, ct in enumerate(df_tmp.index):\n",
    "    cts = df_tmp.index[:i+1].tolist()    \n",
    "    frac = adata[adata.obs['clone_id'].isin(cts)].obs['leiden_CD8']\n",
    "    frac = np.sum(frac=='8') / len(frac)\n",
    "    fractions_top.append(frac)\n",
    "    frac = adata[adata.obs['clone_id']==ct].obs['leiden_CD8']\n",
    "    frac = np.sum(frac=='8') / len(frac)\n",
    "    fraction_ct.append(frac)\n",
    "\n",
    "df_tmp['fraction_8'] = fractions_top\n",
    "df_tmp['fraction_8_ct'] = fraction_ct\n",
    "df_tmp['top_x'] = range(1, len(df_tmp)+1)\n",
    "\n",
    "plot = sb.lineplot(data=df_tmp, y='fraction_8', x='top_x', label='Cluster 8', color='tab:blue')\n",
    "\n",
    "df_tmp = adata[adata.obs['log_score_IFNg_EC50'].notna()\n",
    "              & (adata.obs['donor']!='HIM')\n",
    "              ].obs[['clone_id', 'log_score_IFNg_EC50']].drop_duplicates()\n",
    "df_tmp = df_tmp.sort_values('log_score_IFNg_EC50')\n",
    "df_tmp = df_tmp.set_index('clone_id')\n",
    "\n",
    "fractions_top = []\n",
    "fraction_ct = []\n",
    "for i, ct in enumerate(df_tmp.index):\n",
    "    cts = df_tmp.index[:i+1].tolist()    \n",
    "    frac = adata[adata.obs['clone_id'].isin(cts)].obs['leiden_CD8']\n",
    "    frac = np.sum(frac=='3') / len(frac)\n",
    "    fractions_top.append(frac)\n",
    "    frac = adata[adata.obs['clone_id']==ct].obs['leiden_CD8']\n",
    "    frac = np.sum(frac=='3') / len(frac)\n",
    "    fraction_ct.append(frac)\n",
    "\n",
    "df_tmp['fraction_3'] = fractions_top\n",
    "df_tmp['fraction_3_ct'] = fraction_ct\n",
    "df_tmp['top_x'] = range(1, len(df_tmp)+1)\n",
    "\n",
    "plot = sb.lineplot(data=df_tmp, y='fraction_3', x='top_x', label='Cluster 3', color='tab:orange')\n",
    "\n",
    "sb.despine(ax=plot)\n",
    "plot.grid(False)\n",
    "plot.set_ylabel('Fraction per cluster')\n",
    "plot.set_xlabel('in Top X Clonotypes')\n",
    "plot.set_ylim((0, plot.get_ylim()[1]))\n",
    "\n",
    "handles, labels = plot.get_legend_handles_labels()\n",
    "order = [1, 0]\n",
    "plot.legend([handles[idx] for idx in order], [labels[idx] for idx in order])\n",
    "\n",
    "plt.tight_layout()\n",
    "plt.savefig(f'{path_figs}/avidity/avidityRankedClones_fraction38.pdf', bbox_inches='tight', dpi=300,)\n",
    "plt.savefig(f'{path_figs}/avidity/avidityRankedClones_fraction38.png', bbox_inches='tight', dpi=300,)\n",
    "plt.show()\n",
    "\n",
    "df_tmp['bin'] = ((df_tmp['top_x']-1) // 10 + 1)/10\n",
    "\n",
    "plot = sb.stripplot(data=df_tmp, y='fraction_3_ct', x='bin', color='firebrick')\n",
    "plot = sb.boxplot(data=df_tmp, y='fraction_3_ct', x='bin', color='white')\n",
    "sb.despine(ax=plot)\n",
    "plot.grid(False)\n",
    "plot.set_ylabel('Fraction in Cluster 3')\n",
    "plot.set_xlabel('Avidity bins')\n",
    "\n",
    "plt.tight_layout()\n",
    "plt.savefig(f'{path_figs}/avidity/avidityBinnedClones_fraction3_ct.pdf', bbox_inches='tight', dpi=300,)\n",
    "plt.savefig(f'{path_figs}/avidity/avidityBinnedClones_fraction3_ct.png', bbox_inches='tight', dpi=300,)\n",
    "plt.show()"
   ]
  },
  {
   "cell_type": "code",
   "execution_count": null,
   "id": "e484755f",
   "metadata": {},
   "outputs": [],
   "source": [
    "rcParams['figure.figsize'] = (5, 5)\n",
    "df_tmp = adata[adata.obs['log_score_IFNg_EC50'].notna()\n",
    "              & (adata.obs['donor']!='HIM')\n",
    "              ].obs[['clone_id', 'log_score_IFNg_EC50']].drop_duplicates()\n",
    "df_tmp = df_tmp.sort_values('log_score_IFNg_EC50')\n",
    "df_tmp = df_tmp.set_index('clone_id')\n",
    "\n",
    "for cluster in adata.obs['leiden_CD8'].unique():\n",
    "    if cluster in ['7', '9', '11', '12']:\n",
    "        continue\n",
    "    fractions_top = []\n",
    "    for i, ct in enumerate(df_tmp.index):\n",
    "        cts = df_tmp.index[:i+1].tolist()    \n",
    "        frac = adata[adata.obs['clone_id'].isin(cts)].obs['leiden_CD8']\n",
    "        frac = np.sum(frac==cluster) / len(frac)\n",
    "        fractions_top.append(frac)\n",
    "    df_tmp[f'fraction_{cluster}'] = fractions_top\n",
    "df_tmp['top_x'] = range(1, len(df_tmp)+1)\n",
    "df_tmp_cum = df_tmp[[f'fraction_{el}' for el in range(0, 13) if f'fraction_{el}' in df_tmp.columns] + ['top_x']].copy()\n",
    "\n",
    "df_tmp_cum['-1'] = 0.0\n",
    "df_tmp_cum = df_tmp_cum[['-1'] + df_tmp_cum.columns[:-1].tolist()]\n",
    "\n",
    "for i, col in enumerate(df_tmp_cum.columns[1:-1]):\n",
    "    df_tmp_cum[col] = df_tmp_cum[col] + df_tmp_cum[df_tmp_cum.columns[i]]\n",
    "df_tmp_cum.columns = [el if not 'fraction' in el else el.split('_')[1] for el in df_tmp_cum.columns]\n",
    "\n",
    "\n",
    "fig, plot = plt.subplots(1, 1, figsize=(5,5))\n",
    "for i, col in enumerate(df_tmp_cum.columns[1:-1]):\n",
    "    x = df_tmp_cum['top_x']\n",
    "    y1 = df_tmp_cum[df_tmp_cum.columns[i]]\n",
    "    y2 = df_tmp_cum[col]\n",
    "    plot.fill_between(x, y1, y2, interpolate=True, color=colors_leiden[col], alpha=1, label=col)\n",
    "sb.despine(ax=plot)\n",
    "plot.grid(False)\n",
    "plot.legend(bbox_to_anchor=(1, 0.5), loc='center left', borderaxespad=0)\n",
    "plot.set_ylabel('Fraction per cluster')\n",
    "plot.set_xlabel('in Top X Clonotypes')\n",
    "plot.set_ylim((0, plot.get_ylim()[1]))\n",
    "plot.set_xlim((1, plot.get_xlim()[1]))\n",
    "\n",
    "plt.tight_layout()\n",
    "plt.savefig(f'{path_figs}/avidity/avidityRankedClones_fractionArea.pdf', bbox_inches='tight', dpi=dpi,)\n",
    "plt.savefig(f'{path_figs}/avidity/avidityRankedClones_fractionArea.png', bbox_inches='tight', dpi=dpi,)\n",
    "plt.show()"
   ]
  },
  {
   "cell_type": "markdown",
   "id": "241e57b5",
   "metadata": {},
   "source": [
    "## IFN_seumois"
   ]
  },
  {
   "cell_type": "code",
   "execution_count": null,
   "id": "b9108734",
   "metadata": {},
   "outputs": [],
   "source": [
    "rcParams['figure.figsize'] = (8, 4)\n",
    "sb.barplot(data=adata.obs, x='leiden_CD8', y='ifn_seumois', palette=adata.uns['leiden_CD8_colors'])\n",
    "plt.show()"
   ]
  },
  {
   "cell_type": "code",
   "execution_count": null,
   "id": "1c3fbf8d",
   "metadata": {},
   "outputs": [],
   "source": [
    "df_tmp = adata.obs.copy()\n",
    "df_tmp['MKI67'] = adata[:, ['MKI67']].X.A.reshape(-1)\n",
    "df_tmp = df_tmp[df_tmp['donor']!='HIM']\n",
    "sb.barplot(data=df_tmp, y='MKI67', x='leiden_CD8', palette=adata.uns['leiden_CD8_colors'])\n",
    "plt.show()"
   ]
  },
  {
   "cell_type": "code",
   "execution_count": null,
   "id": "bc16b113",
   "metadata": {},
   "outputs": [],
   "source": [
    "adata[adata.obs['clone_id']=='1690.0'].obs[['IR_VJ_1_junction_aa', 'IR_VJ_2_junction_aa',\n",
    "                                           'IR_VDJ_1_junction_aa', 'IR_VDJ_2_junction_aa',]]"
   ]
  },
  {
   "cell_type": "code",
   "execution_count": null,
   "id": "dcf57508",
   "metadata": {},
   "outputs": [],
   "source": [
    "rcParams['figure.figsize'] = (5, 5)\n",
    "sc.pl.umap(adata, color=['leiden_CD8', 'ifn_seumois'])"
   ]
  },
  {
   "cell_type": "markdown",
   "id": "fe27aaa6",
   "metadata": {},
   "source": [
    "## Detection Pattern over time"
   ]
  },
  {
   "cell_type": "code",
   "execution_count": null,
   "id": "84b6e27e",
   "metadata": {},
   "outputs": [],
   "source": [
    "from matplotlib.lines import Line2D"
   ]
  },
  {
   "cell_type": "code",
   "execution_count": null,
   "id": "e9585898",
   "metadata": {
    "scrolled": true
   },
   "outputs": [],
   "source": [
    "cats = [['A04', 'A08', 'A15'], ['A29']] \n",
    "\n",
    "palette_detect = sb.color_palette('muted')\n",
    "palette_detect = {\n",
    "    'persisting': palette_detect[2],\n",
    "    'early': palette_detect[0],\n",
    "    'late': palette_detect[3],\n",
    "    'non-reactive': palette_detect[4],\n",
    "    'not-expressed': palette_detect[5],\n",
    "}\n",
    "\n",
    "for j, donors in enumerate(cats):\n",
    "    fig, axes = plt.subplots(1, len(time_order_wo_X), figsize=(5*len(time_order_wo_X), 5))\n",
    "    for i, time in enumerate(time_order_wo_X):\n",
    "        ax = axes[i]\n",
    "        sc.pl.umap(adata, ax=ax, show=False)\n",
    "\n",
    "        adata_tmp = adata[(adata.obs['donor'].isin(donors))\n",
    "                          & (adata.obs['time']==time) \n",
    "                          & (adata.obs['detection_pattern'].notna())]\n",
    "\n",
    "        if len(adata_tmp) > 0:\n",
    "            sc.pl.umap(adata_tmp, color='detection_pattern', ax=ax, show=False, \n",
    "                       size=len(adata)/1200*3, palette=palette_detect,\n",
    "                      )\n",
    "        ax.set_ylabel(None)\n",
    "        ax.set_xlabel(None)\n",
    "        ax.set_title(None)  \n",
    "        if i != 7 and j != 4:\n",
    "            ax.legend().remove()\n",
    "\n",
    "    for i, time in enumerate(time_order_wo_X):\n",
    "        axes[i].set_title(time)\n",
    "        \n",
    "    handles = [Line2D([0], [0], marker='o', color='w', label=label, \n",
    "                  markersize=10, markerfacecolor=color) for label, color in palette_detect.items()]\n",
    "    axes[i].legend(handles=handles)\n",
    "\n",
    "    fig.suptitle(','.join(donors))\n",
    "\n",
    "    plt.tight_layout()\n",
    "    plt.savefig(f'{path_figs}/avidity/umap_detectionPattern_over_time_{\"\".join(donors)}.pdf', bbox_inches='tight', dpi=300,)\n",
    "    plt.savefig(f'{path_figs}/avidity/umap_detectionPattern_over_time_{\"\".join(donors)}.png', bbox_inches='tight', dpi=300,)\n",
    "    plt.show()"
   ]
  },
  {
   "cell_type": "markdown",
   "id": "e66ca85e",
   "metadata": {},
   "source": [
    "### Full detection pattern"
   ]
  },
  {
   "cell_type": "code",
   "execution_count": null,
   "id": "9b6ba7e4",
   "metadata": {},
   "outputs": [],
   "source": [
    "cts_occurance = adata[adata.obs['clone_id']!='nan'].obs.groupby('clone_id')['time'].value_counts()\n",
    "cts_occurance = (cts_occurance.unstack()>0)[time_order_wo_X]\n",
    "cts_occurance['occurs_early'] = cts_occurance[['P1', 'S1', 'S2', 'S3']].sum(axis=1) > 0\n",
    "cts_occurance['occurs_late'] = cts_occurance[['T1', 'T2', 'T3']].sum(axis=1) > 0\n",
    "\n",
    "cts_occurance['early'] = (cts_occurance['occurs_early']) & (~cts_occurance['occurs_late'])\n",
    "cts_occurance['late'] = (~cts_occurance['occurs_early']) & (cts_occurance['occurs_late'])\n",
    "cts_occurance['persisting'] = (cts_occurance['occurs_early']) & (cts_occurance['occurs_late'])\n",
    "cts_occurance"
   ]
  },
  {
   "cell_type": "code",
   "execution_count": null,
   "id": "c74b92d1",
   "metadata": {},
   "outputs": [],
   "source": [
    "adata.obs['detection_pattern_full'] = np.nan\n",
    "for p in ['early', 'late', 'persisting']:\n",
    "    cts_pattern = cts_occurance[cts_occurance[p]].index\n",
    "    adata.obs.loc[adata.obs['clone_id'].isin(cts_pattern), 'detection_pattern_full'] = p\n",
    "\n",
    "adata.obs.loc[adata.obs['binding_ct']=='No binding', 'detection_pattern_full'] = np.nan\n",
    "adata.obs['detection_pattern_full'].value_counts()"
   ]
  },
  {
   "cell_type": "code",
   "execution_count": null,
   "id": "ca918b07",
   "metadata": {
    "scrolled": true
   },
   "outputs": [],
   "source": [
    "cats = [['A04', 'A08', 'A15'], ['A29']] \n",
    "\n",
    "palette_detect = sb.color_palette('muted')\n",
    "palette_detect = {\n",
    "    'persisting': palette_detect[2],\n",
    "    'early': palette_detect[0],\n",
    "    'late': palette_detect[3],\n",
    "}\n",
    "\n",
    "for j, donors in enumerate(cats):\n",
    "    epitope = 'YLQPRTFLL' if 'A29' in donors else 'LTDEMIAQY' \n",
    "    fig, axes = plt.subplots(1, len(time_order_wo_X), figsize=(5*len(time_order_wo_X), 5))\n",
    "    for i, time in enumerate(time_order_wo_X):\n",
    "        ax = axes[i]\n",
    "        sc.pl.umap(adata, ax=ax, show=False)\n",
    "\n",
    "        adata_tmp = adata[(adata.obs['donor'].isin(donors))\n",
    "                          & (adata.obs['time']==time) \n",
    "                          & (adata.obs['detection_pattern_full'].notna())\n",
    "                         & (adata.obs['binding_ct']==epitope)]\n",
    "\n",
    "        if len(adata_tmp) > 0:\n",
    "            sc.pl.umap(adata_tmp, color='detection_pattern_full', ax=ax, show=False, \n",
    "                       size=len(adata)/1200*3, palette=palette_detect,\n",
    "                      )\n",
    "        ax.set_ylabel(None)\n",
    "        ax.set_xlabel(None)\n",
    "        ax.set_title(None)  \n",
    "        if i != 7 and j != 4:\n",
    "            ax.legend().remove()\n",
    "\n",
    "    for i, time in enumerate(time_order_wo_X):\n",
    "        axes[i].set_title(time)\n",
    "        \n",
    "    handles = [Line2D([0], [0], marker='o', color='w', label=label, \n",
    "                  markersize=10, markerfacecolor=color) for label, color in palette_detect.items()]\n",
    "    axes[i].legend(handles=handles)\n",
    "\n",
    "    fig.suptitle(','.join(donors))\n",
    "\n",
    "    plt.tight_layout()\n",
    "    plt.savefig(f'{path_figs}/avidity/umap_detectionPattern_full_over_time_{\"\".join(donors)}.pdf', bbox_inches='tight', dpi=300,)\n",
    "    plt.savefig(f'{path_figs}/avidity/umap_detectionPattern_full_over_time_{\"\".join(donors)}.png', bbox_inches='tight', dpi=300,)\n",
    "    plt.show()"
   ]
  },
  {
   "cell_type": "markdown",
   "id": "5c65e094",
   "metadata": {},
   "source": [
    "## DEG"
   ]
  },
  {
   "cell_type": "code",
   "execution_count": null,
   "id": "40ee0b8e",
   "metadata": {
    "scrolled": true
   },
   "outputs": [],
   "source": [
    "for level in levels:\n",
    "    sc.pp.highly_variable_genes(adata, n_top_genes=5000)\n",
    "    \n",
    "    for woHIM in ['allDonors', 'woHIM']:\n",
    "        adata_tmp = adata[:, adata.var['highly_variable']]\n",
    "        if woHIM == 'woHIM':\n",
    "            adata_tmp = adata_tmp[adata_tmp.obs['donor']!='HIM']\n",
    "        adata_tmp = adata_tmp[adata_tmp.obs[level].notna()]\n",
    "        sc.tl.rank_genes_groups(adata_tmp, groupby=level)\n",
    "\n",
    "        dict_deg = {}\n",
    "        for cluster in adata_tmp.obs[level].unique():\n",
    "            names = adata_tmp.uns['rank_genes_groups']['names'][cluster].tolist()\n",
    "            scores = adata_tmp.uns['rank_genes_groups']['scores'][cluster].tolist()\n",
    "            pvals = adata_tmp.uns['rank_genes_groups']['pvals_adj'][cluster].tolist()\n",
    "            dict_deg[f'{cluster}_gene'] = names\n",
    "            dict_deg[f'{cluster}_scores'] = scores\n",
    "            dict_deg[f'{cluster}_pValsAdj'] = pvals\n",
    "\n",
    "        df_degs = pd.DataFrame(dict_deg)\n",
    "        df_degs = df_degs[sorted(df_degs.columns.tolist())]\n",
    "        df_degs.to_csv(f'../../results/dextramer/CD8/DEGs/deg_gex_{woHIM}_{level}.csv')\n",
    "\n",
    "\n",
    "        adata_cite = ann.AnnData(X=adata_tmp.obs[[f'clr_{el}' for el in cite_ids]\n",
    "                                            ].values, obs=adata_tmp.obs[[level] + cite_ids.tolist()])\n",
    "        adata_cite.var_names = cite_ids\n",
    "        adata_cite = adata_cite[~adata_cite.obs[cite_ids[0]].isna()]\n",
    "\n",
    "        try:\n",
    "            sc.tl.rank_genes_groups(adata_cite, groupby=level)\n",
    "\n",
    "            dict_deg = {}\n",
    "            for cluster in adata_cite.obs[level].unique():\n",
    "                names = adata_cite.uns['rank_genes_groups']['names'][cluster].tolist()\n",
    "                scores = adata_cite.uns['rank_genes_groups']['scores'][cluster].tolist()\n",
    "                pvals = adata_cite.uns['rank_genes_groups']['pvals_adj'][cluster].tolist()\n",
    "                dict_deg[f'{cluster}_gene'] = names\n",
    "                dict_deg[f'{cluster}_scores'] = scores\n",
    "                dict_deg[f'{cluster}_pValsAdj'] = pvals\n",
    "\n",
    "            df_degs = pd.DataFrame(dict_deg)\n",
    "            df_degs = df_degs[sorted(df_degs.columns.tolist())]\n",
    "            df_degs.to_csv(f'../../results/dextramer/CD8/DEGs/deg_cite_{woHIM}_{level}.csv')\n",
    "        except Exception as e:\n",
    "            print(e)\n"
   ]
  },
  {
   "cell_type": "markdown",
   "id": "ebd34aa9",
   "metadata": {},
   "source": [
    "## DEGs"
   ]
  },
  {
   "cell_type": "code",
   "execution_count": null,
   "id": "8a9f26a5",
   "metadata": {},
   "outputs": [],
   "source": [
    "def rank_genes_groups_2_csv(adata_deg, title):\n",
    "    dict_deg = {}\n",
    "    for cluster in adata_deg.obs[adata_deg.uns['rank_genes_groups']['params']['groupby']].unique():\n",
    "        names = adata_deg.uns['rank_genes_groups']['names'][cluster].tolist()\n",
    "        scores = adata_deg.uns['rank_genes_groups']['scores'][cluster].tolist()\n",
    "        pvals = adata_deg.uns['rank_genes_groups']['pvals_adj'][cluster].tolist()\n",
    "        lfc = adata_deg.uns['rank_genes_groups']['logfoldchanges'][cluster].tolist()\n",
    "        dict_deg[f'{cluster}_gene'] = names\n",
    "        dict_deg[f'{cluster}_scores'] = scores\n",
    "        dict_deg[f'{cluster}_pValsAdj'] = pvals\n",
    "        dict_deg[f'{cluster}_lfc'] = lfc\n",
    "\n",
    "    df_degs = pd.DataFrame(dict_deg)\n",
    "    df_degs = df_degs[sorted(df_degs.columns.tolist())]\n",
    "    df_degs.to_csv(f'../../results/dextramer/CD8/DEGs/{title}.csv')"
   ]
  },
  {
   "cell_type": "code",
   "execution_count": null,
   "id": "9da0d219",
   "metadata": {},
   "outputs": [],
   "source": [
    "rcParams['figure.figsize'] = (5, 5)"
   ]
  },
  {
   "cell_type": "code",
   "execution_count": null,
   "id": "01dee64b",
   "metadata": {},
   "outputs": [],
   "source": [
    "adata_cite = ann.AnnData(X=adata.obs[[f'clr_{el}' for el in cite_ids]\n",
    "                                            ].values, obs=adata.obs)\n",
    "adata_cite.var_names = cite_ids\n",
    "adata_cite = adata_cite[~adata_cite.obs[cite_ids[0]].isna()]\n",
    "adata_cite.obs = adata_cite.obs[[el for el in adata.obs.columns if el not in cite_ids]]"
   ]
  },
  {
   "cell_type": "markdown",
   "id": "47b81c64",
   "metadata": {},
   "source": [
    "### Cite top5 IFNG"
   ]
  },
  {
   "cell_type": "code",
   "execution_count": null,
   "id": "02e6b9e9",
   "metadata": {},
   "outputs": [],
   "source": [
    "palette_vulcano = {\n",
    "    'not_sig': 'silver',\n",
    "    'left': 'dodgerblue',\n",
    "    'right': 'firebrick'\n",
    "}\n",
    "\n",
    "def plot_vulcano(df_degs, cat):\n",
    "    group = f'{cat} vs Rest'\n",
    "    df_tmp = pd.DataFrame(np.column_stack([df_degs['logfoldchanges'][cat], df_degs['pvals_adj'][cat]]),\n",
    "                         columns=['logfoldchange', 'pvals_adj'], index=df_degs['names'][cat])\n",
    "    df_tmp['pvals_adj'] = df_tmp['pvals_adj'].apply(lambda x: max(x, 1e-11))\n",
    "    #df_tmp['logfoldchange'] = df_tmp['logfoldchange'].apply(lambda x: max(x, -5))\n",
    "    #df_tmp['logfoldchange'] = df_tmp['logfoldchange'].apply(lambda x: min(x, 5))\n",
    "    df_tmp['log_padj'] = - np.log10(df_tmp['pvals_adj'])\n",
    "    \n",
    "    df_tmp['color'] = df_tmp.apply(lambda x: 'not_sig' if x['pvals_adj']>0.05 or np.abs(x['logfoldchange'])<1.5\n",
    "                                   else 'left' if x['logfoldchange']<0 else 'right',\n",
    "                                  axis=1)\n",
    "    \n",
    "    plot = sb.scatterplot(data=df_tmp, x='logfoldchange', y='log_padj', hue='color', palette=palette_vulcano,\n",
    "                          s=15, edgecolor='none')\n",
    "    plot.legend().remove()\n",
    "    sb.despine(ax=plot)\n",
    "    plot.grid(False)\n",
    "    plot.set_ylabel('-log$_{10}$(p-value$_{adj}$)')\n",
    "    plot.set_xlabel('log$_{2}$(Fold-Change)')\n",
    "    plot.set_title(group)\n",
    "    return df_tmp"
   ]
  },
  {
   "cell_type": "code",
   "execution_count": null,
   "id": "656d0e7f",
   "metadata": {
    "scrolled": true
   },
   "outputs": [],
   "source": [
    "adata_cite_tmp = adata_cite[adata_cite.obs['level_IFNg_EC50_top5'].notna()]\n",
    "sc.tl.rank_genes_groups(adata_cite_tmp, groupby='level_IFNg_EC50_top5')\n",
    "rank_genes_groups_2_csv(adata_cite_tmp, 'deg_cite_level_IFNg_EC50_top5')\n",
    "\n",
    "for group in ['high', 'low', 'mid']:\n",
    "    plot_vulcano(adata_cite_tmp.uns['rank_genes_groups'], group)\n",
    "    \n",
    "    plt.tight_layout()\n",
    "    plt.savefig(f'{path_figs}/avidity/deg_cite_ifng_top5_{group}.pdf', bbox_inches='tight', dpi=300,)\n",
    "    plt.savefig(f'{path_figs}/avidity/deg_cite_ifng_top5_{group}.png', bbox_inches='tight', dpi=300,)\n",
    "    plt.show()\n",
    "adata_cite_tmp.obs['level_IFNg_EC50_top5'].value_counts()"
   ]
  },
  {
   "cell_type": "markdown",
   "id": "42d94627",
   "metadata": {},
   "source": [
    "### Cite IFNG PopTop5"
   ]
  },
  {
   "cell_type": "code",
   "execution_count": null,
   "id": "383e355e",
   "metadata": {
    "scrolled": true
   },
   "outputs": [],
   "source": [
    "adata_cite_tmp = adata_cite[adata_cite.obs['level_IFNg_EC50_population_top5'].notna()]\n",
    "sc.tl.rank_genes_groups(adata_cite_tmp, groupby='level_IFNg_EC50_population_top5')\n",
    "rank_genes_groups_2_csv(adata_cite_tmp, 'deg_cite_level_IFNg_EC50_popTop5')\n",
    "\n",
    "for group in ['high', 'low', 'mid']:\n",
    "    plot_vulcano(adata_cite_tmp.uns['rank_genes_groups'], group)\n",
    "    \n",
    "    plt.tight_layout()\n",
    "    plt.savefig(f'{path_figs}/avidity/deg_cite_ifng_popTop5_{group}.pdf', bbox_inches='tight', dpi=300,)\n",
    "    plt.savefig(f'{path_figs}/avidity/deg_cite_ifng_popTop5_{group}.png', bbox_inches='tight', dpi=300,)\n",
    "    plt.show()\n",
    "    \n",
    "adata_cite_tmp.obs['level_IFNg_EC50_population_top5'].value_counts()"
   ]
  },
  {
   "cell_type": "markdown",
   "id": "14d07863",
   "metadata": {},
   "source": [
    "### DEG IFNG Top5"
   ]
  },
  {
   "cell_type": "code",
   "execution_count": null,
   "id": "47b284c0",
   "metadata": {},
   "outputs": [],
   "source": [
    "sc.pp.highly_variable_genes(adata, n_top_genes=5000)"
   ]
  },
  {
   "cell_type": "code",
   "execution_count": null,
   "id": "4b191576",
   "metadata": {
    "scrolled": false
   },
   "outputs": [],
   "source": [
    "adata_tmp = adata[adata.obs['level_IFNg_EC50_top5'].notna(), adata.var['highly_variable']]\n",
    "sc.tl.rank_genes_groups(adata_tmp, groupby='level_IFNg_EC50_top5')\n",
    "rank_genes_groups_2_csv(adata_tmp, 'deg_gex_level_IFNg_EC50_top5')\n",
    "\n",
    "for group in ['high', 'low', 'mid']:\n",
    "    plot_vulcano(adata_tmp.uns['rank_genes_groups'], group)\n",
    "    \n",
    "    plt.tight_layout()\n",
    "    plt.savefig(f'{path_figs}/avidity/deg_gex_ifng_Top5_{group}.pdf', bbox_inches='tight', dpi=300,)\n",
    "    plt.savefig(f'{path_figs}/avidity/deg_gex_ifng_Top5_{group}.png', bbox_inches='tight', dpi=300,)\n",
    "    plt.show()\n",
    "adata_tmp.obs['level_IFNg_EC50_top5'].value_counts()"
   ]
  },
  {
   "cell_type": "markdown",
   "id": "39d4c40e",
   "metadata": {},
   "source": [
    "### DEG IFNG Top5 - high vs low"
   ]
  },
  {
   "cell_type": "code",
   "execution_count": null,
   "id": "b1807488",
   "metadata": {},
   "outputs": [],
   "source": [
    "adata_tmp = adata[adata.obs['level_IFNg_EC50_top5'].isin(['high', 'low']), adata.var['highly_variable']]\n",
    "adata_tmp.obs['level_IFNg_EC50_top5'] = adata_tmp.obs['level_IFNg_EC50_top5'].astype(str)\n",
    "sc.tl.rank_genes_groups(adata_tmp, groupby='level_IFNg_EC50_top5')\n",
    "rank_genes_groups_2_csv(adata_tmp, 'deg_gex_level_IFNg_EC50_top5_highLow')\n",
    "\n",
    "for group in ['high', 'low']:\n",
    "    plot_vulcano(adata_tmp.uns['rank_genes_groups'], group)\n",
    "    \n",
    "    plt.tight_layout()\n",
    "    plt.savefig(f'{path_figs}/avidity/deg_gex_ifng_Top5_{group}_highLow.pdf', bbox_inches='tight', dpi=300,)\n",
    "    plt.savefig(f'{path_figs}/avidity/deg_gex_ifng_Top5_{group}_highLow.png', bbox_inches='tight', dpi=300,)\n",
    "    plt.show()\n",
    "adata_tmp.obs['level_IFNg_EC50_top5'].value_counts()"
   ]
  },
  {
   "cell_type": "markdown",
   "id": "59f6766d",
   "metadata": {},
   "source": [
    "### DEG IFNG PopTop5"
   ]
  },
  {
   "cell_type": "code",
   "execution_count": null,
   "id": "e4cdb407",
   "metadata": {},
   "outputs": [],
   "source": [
    "adata_tmp = adata[adata.obs['level_IFNg_EC50_population_top5'].notna(), adata.var['highly_variable']]\n",
    "sc.tl.rank_genes_groups(adata_tmp, groupby='level_IFNg_EC50_population_top5')\n",
    "rank_genes_groups_2_csv(adata_tmp, 'deg_gex_level_IFNg_EC50_popTop5')\n",
    "\n",
    "for group in ['high', 'mid', 'low']:\n",
    "    plot_vulcano(adata_tmp.uns['rank_genes_groups'], group)\n",
    "    \n",
    "    plt.tight_layout()\n",
    "    plt.savefig(f'{path_figs}/avidity/deg_gex_ifng_popTop5_{group}.pdf', bbox_inches='tight', dpi=300,)\n",
    "    plt.savefig(f'{path_figs}/avidity/deg_gex_ifng_popTop5_{group}.png', bbox_inches='tight', dpi=300,)\n",
    "    plt.show()\n",
    "adata_tmp.obs['level_IFNg_EC50_population_top5'].value_counts()"
   ]
  },
  {
   "cell_type": "markdown",
   "id": "190b1099",
   "metadata": {},
   "source": [
    "### DEG IFNG PopTop5 - high vs low"
   ]
  },
  {
   "cell_type": "code",
   "execution_count": null,
   "id": "98e3739f",
   "metadata": {},
   "outputs": [],
   "source": [
    "adata_tmp = adata[adata.obs['level_IFNg_EC50_population_top5'].isin(['high', 'low']), adata.var['highly_variable']]\n",
    "sc.tl.rank_genes_groups(adata_tmp, groupby='level_IFNg_EC50_population_top5')\n",
    "rank_genes_groups_2_csv(adata_tmp, 'deg_gex_level_IFNg_EC50_popTop5_highLow')\n",
    "\n",
    "for group in ['high', 'low']:\n",
    "    plot_vulcano(adata_tmp.uns['rank_genes_groups'], group)\n",
    "    \n",
    "    plt.tight_layout()\n",
    "    plt.savefig(f'{path_figs}/avidity/deg_gex_ifng_popTop5_{group}_highLow.pdf', bbox_inches='tight', dpi=300,)\n",
    "    plt.savefig(f'{path_figs}/avidity/deg_gex_ifng_popTop5_{group}_highLow.png', bbox_inches='tight', dpi=300,)\n",
    "    plt.show()\n",
    "adata_tmp.obs['level_IFNg_EC50_population_top5'].value_counts()"
   ]
  },
  {
   "cell_type": "markdown",
   "id": "a20adb1e",
   "metadata": {},
   "source": [
    "### DEG expanded in T1 "
   ]
  },
  {
   "cell_type": "code",
   "execution_count": null,
   "id": "a720a4d6",
   "metadata": {
    "scrolled": true
   },
   "outputs": [],
   "source": [
    "### DEG expanded in T1 - high vs low\n",
    "\n",
    "adata_tmp = adata[adata.obs['level_expT1'].notna(), adata.var['highly_variable']]\n",
    "sc.tl.rank_genes_groups(adata_tmp, groupby='level_expT1')\n",
    "rank_genes_groups_2_csv(adata_tmp, 'deg_gex_t1_expansion')\n",
    "\n",
    "for group in ['non expanding', 'high expanding', 'low expanding', 'mid expanding']:\n",
    "    plot_vulcano(adata_tmp.uns['rank_genes_groups'], group)\n",
    "    \n",
    "    plt.tight_layout()\n",
    "    plt.savefig(f'{path_figs}/avidity/deg_gex_t1_expansion_{group}.pdf', bbox_inches='tight', dpi=300,)\n",
    "    plt.savefig(f'{path_figs}/avidity/deg_gex_t1_expansion_{group}.png', bbox_inches='tight', dpi=300,)\n",
    "    plt.show()\n",
    "\n",
    "adata_tmp.obs['level_expT1'].value_counts()"
   ]
  },
  {
   "cell_type": "markdown",
   "id": "e194a753",
   "metadata": {},
   "source": [
    "### DEG expanded in T1 - high vs low"
   ]
  },
  {
   "cell_type": "code",
   "execution_count": null,
   "id": "2f675b5e",
   "metadata": {},
   "outputs": [],
   "source": [
    "adata_tmp = adata[adata.obs['level_expT1'].isin(['high expanding', 'low expanding']), adata.var['highly_variable']]\n",
    "sc.tl.rank_genes_groups(adata_tmp, groupby='level_expT1')\n",
    "rank_genes_groups_2_csv(adata_tmp, 'deg_gex_t1_expansion_highLow')\n",
    "\n",
    "for group in ['high expanding', 'low expanding']:\n",
    "    plot_vulcano(adata_tmp.uns['rank_genes_groups'], group)\n",
    "    \n",
    "    plt.tight_layout()\n",
    "    plt.savefig(f'{path_figs}/avidity/deg_gex_t1_expansion_{group}_highLow.pdf', bbox_inches='tight', dpi=300,)\n",
    "    plt.savefig(f'{path_figs}/avidity/deg_gex_t1_expansion_{group}_highLow.png', bbox_inches='tight', dpi=300,)\n",
    "    plt.show()\n",
    "\n",
    "adata_tmp.obs['level_expT1'].value_counts()"
   ]
  },
  {
   "cell_type": "markdown",
   "id": "9e8e103d",
   "metadata": {},
   "source": [
    "## TCRdist"
   ]
  },
  {
   "cell_type": "code",
   "execution_count": null,
   "id": "a416ce1e",
   "metadata": {},
   "outputs": [],
   "source": [
    "import sys\n",
    "sys.path.append('..')\n",
    "\n",
    "import utils.tcrdist as tcrdist"
   ]
  },
  {
   "cell_type": "code",
   "execution_count": null,
   "id": "82d5897f",
   "metadata": {},
   "outputs": [],
   "source": [
    "df_all_cts = adata.obs.copy()\n",
    "df_all_cts = df_all_cts[df_all_cts['clone_id']!='nan']\n",
    "df_all_cts = df_all_cts[df_all_cts['binding_ct']!='No binding']\n",
    "df_all_cts = df_all_cts[['clone_id', 'clonotype_sequence', 'v_genes', 'j_genes', 'binding_ct']]\n",
    "df_all_cts = df_all_cts.drop_duplicates()\n",
    "df_all_cts[['cdr3_a_aa', 'cdr3_b_aa']] = df_all_cts['clonotype_sequence'].str.split(' ', expand=True)\n",
    "df_all_cts[['v_a_gene', 'v_b_gene']] = df_all_cts['v_genes'].str.split(' ', expand=True)\n",
    "df_all_cts['count'] = df_all_cts['clone_id']\n",
    "\n",
    "for col in ['v_a_gene', 'v_b_gene']:\n",
    "    df_all_cts[col] = df_all_cts[col] + '*01'"
   ]
  },
  {
   "cell_type": "code",
   "execution_count": null,
   "id": "9e00d216",
   "metadata": {},
   "outputs": [],
   "source": [
    "anno = pd.DataFrame(index=df_all_cts['clone_id'])\n",
    "\n",
    "anno = pd.concat([anno, # binding_ct\n",
    "                adata[adata.obs['binding_ct']!='No binding'\n",
    "                     ].obs[['clone_id', 'binding_ct']].drop_duplicates().set_index('clone_id'),\n",
    "                 ], axis=1, join='outer')\n",
    "\n",
    "anno = pd.concat([anno, # total number cells\n",
    "                  pd.DataFrame(adata.obs.groupby('clone_id')['clone_id_size'].max()),\n",
    "                 ], axis=1, join='outer')\n",
    "\n",
    "df_t1 = pd.DataFrame(adata[adata.obs['time']=='T1'].obs['clone_id'].value_counts())\n",
    "df_t1.columns = ['clone_size_T1']\n",
    "anno = pd.concat([anno, # number of cells at T1\n",
    "                  df_t1], axis=1, join='outer')\n",
    "\n",
    "anno = pd.concat([anno, # detection pattern\n",
    "                adata[adata.obs['detection_pattern_full'].notna()\n",
    "                     ].obs[['clone_id', 'detection_pattern_full']].drop_duplicates().set_index('clone_id'),\n",
    "                 ], axis=1, join='outer')\n",
    "\n",
    "anno = pd.concat([anno, # reactivity\n",
    "                adata[adata.obs['reactivity'].notna()\n",
    "                     ].obs[['clone_id', 'reactivity']].drop_duplicates().set_index('clone_id'),\n",
    "                 ], axis=1, join='outer')\n",
    "\n",
    "df_avidity_full = pd.concat(donor_2_avidity.values())[['score_IFNg_EC50']].drop_duplicates()\n",
    "df_avidity_full = df_avidity_full[~df_avidity_full.index.duplicated(keep='first')]\n",
    "\n",
    "anno = pd.concat([anno, # avidity\n",
    "                  df_avidity_full], axis=1, join='outer')\n",
    "\n",
    "anno = pd.concat([anno, # pseudotime\n",
    "                  pd.DataFrame(adata.obs.groupby('clone_id')['dpt_pseudotime'].max()),\n",
    "                 ], axis=1, join='outer')\n",
    "\n",
    "anno = anno[anno.index.isin(df_all_cts['clone_id'])]\n",
    "anno['log10_clone_id_size'] = np.log10(anno['clone_id_size'])\n",
    "anno['log10_clone_size_T1'] = np.log10(anno['clone_size_T1'])\n",
    "anno['log10_score_IFNg_EC50'] = np.log10(anno['score_IFNg_EC50'])\n",
    "anno.head()"
   ]
  },
  {
   "cell_type": "markdown",
   "id": "60566f06",
   "metadata": {},
   "source": [
    "### DEX+ cells"
   ]
  },
  {
   "cell_type": "code",
   "execution_count": null,
   "id": "e59a2f11",
   "metadata": {},
   "outputs": [],
   "source": [
    "path_graph = '../../results/dextramer/CD8/graphs'\n",
    "df_dists_both = tcrdist.get_tcr_distance(df_all_cts, 'both')\n",
    "graph_dex = tcrdist.dists_to_graph(df_dists_both, 120, percentile=100, min_compenents=2, \n",
    "                                    annotation=anno, path_save=f'{path_graph}/paper_dex_positive.gexf')"
   ]
  },
  {
   "cell_type": "code",
   "execution_count": null,
   "id": "8f6a2af8",
   "metadata": {},
   "outputs": [],
   "source": [
    "cts_graph = [el for el in graph_dex.nodes]\n",
    "anno_graph = anno[anno.index.isin(cts_graph)]\n",
    "print('Column:\\t\\t\\tMin\\t-\\tMax')\n",
    "for col in ['log10_score_IFNg_EC50', 'dpt_pseudotime', 'log10_clone_id_size', 'log10_clone_size_T1',]:\n",
    "    print(f'{col}:\\t{anno_graph[col].min()}\\t-\\t{anno_graph[col].max()}')"
   ]
  },
  {
   "cell_type": "markdown",
   "id": "83f00e64",
   "metadata": {},
   "source": [
    "### LTD cells"
   ]
  },
  {
   "cell_type": "code",
   "execution_count": null,
   "id": "416b9642",
   "metadata": {},
   "outputs": [],
   "source": [
    "df_ltd = df_all_cts[df_all_cts['binding_ct']=='LTDEMIAQY'].copy()\n",
    "anno_ltd = anno[anno.index.isin(df_ltd['clone_id'])].copy()"
   ]
  },
  {
   "cell_type": "code",
   "execution_count": null,
   "id": "51754e90",
   "metadata": {},
   "outputs": [],
   "source": [
    "path_graph = '../../results/dextramer/CD8/graphs'\n",
    "df_dists_both = tcrdist.get_tcr_distance(df_ltd, 'both')\n",
    "graph_dex = tcrdist.dists_to_graph(df_dists_both, 120, percentile=100, min_compenents=1, \n",
    "                                    annotation=anno_ltd, path_save=f'{path_graph}/paper_ltd_positive.gexf')"
   ]
  },
  {
   "cell_type": "markdown",
   "id": "f3bf7e0f",
   "metadata": {},
   "source": [
    "### YLQ cells"
   ]
  },
  {
   "cell_type": "code",
   "execution_count": null,
   "id": "f3dcff21",
   "metadata": {},
   "outputs": [],
   "source": [
    "df_ylq = df_all_cts[df_all_cts['binding_ct']=='YLQPRTFLL'].copy()\n",
    "anno_ylq = anno[anno.index.isin(df_ylq['clone_id'])].copy()"
   ]
  },
  {
   "cell_type": "code",
   "execution_count": null,
   "id": "2e3abff4",
   "metadata": {},
   "outputs": [],
   "source": [
    "path_graph = '../../results/dextramer/CD8/graphs'\n",
    "df_dists_both = tcrdist.get_tcr_distance(df_ylq, 'both')\n",
    "graph_dex = tcrdist.dists_to_graph(df_dists_both, 120, percentile=100, min_compenents=1, \n",
    "                                    annotation=anno_ylq, path_save=f'{path_graph}/paper_ylq_positive.gexf')"
   ]
  },
  {
   "cell_type": "code",
   "execution_count": null,
   "id": "2d535a29",
   "metadata": {},
   "outputs": [],
   "source": [
    "adata.obs['donor'].nunique()"
   ]
  },
  {
   "cell_type": "markdown",
   "id": "86f0711f",
   "metadata": {},
   "source": [
    "## Tables Avidity Groups"
   ]
  },
  {
   "cell_type": "code",
   "execution_count": null,
   "id": "274d8bec",
   "metadata": {},
   "outputs": [],
   "source": [
    "initial_tested = {\n",
    "    'high': ['646.0', '772.0', '99.0', '201.0', '718.0', '6012.0', '841.0', '10748.0', \n",
    "             '11195.0', '6319.0', '11155.0', '5918.0', '11949.0', '7100.0', '7808.0', \n",
    "             '832.0', '225.0', '11085.0', '297.0', '11751.0', '7287.0', '7734.0', '7156.0', \n",
    "             '11151.0', '8915.0', '11439.0', '6928.0', '6844.0', '10832.0', '6254.0', \n",
    "             '7094.0', '4160.0', '6808.0', '6265.0', '5469.0', '6302.0', '5251.0', '5458.0', \n",
    "             '5170.0', '8172.0', '8483.0', '3936.0', '11870.0', '8395.0', '6993.0', '7758.0',\n",
    "             '7911.0', '386.0', '66.0', '772.0', '277.0', '11253.0', '509.0', '6743.0', '5245.0',\n",
    "             '5576.0', '4545.0', '763.0', '684.0', '1735.0', '6755.0', '6548.0', '10813.0', \n",
    "             '545.0', '2722.0', '3155.0', '4386.0', '489.0', '317.0', '7894.0', '11964.0',\n",
    "             '52.0', '5766.0', '691.0', '6467.0', '10749.0', '6688.0', '6579.0', '6140.0', \n",
    "             '3695.0', '9825.0', '323.0', '11445.0', '9961.0', '7411.0', '8191.0', '5226.0', \n",
    "             '2495.0', '272.0', '2058.0', '1650.0', '41.0', '219.0', '1361.0', '1701.0', '2997.0', \n",
    "             '475.0', '5546.0', '1276.0'],\n",
    "    'low': ['11964.0', '8191.0'],\n",
    "    'non-reactive': ['10623.0', '2123.0', '4350.0', '9973.0'],\n",
    "}\n",
    "new_tested = {\n",
    "    'high': ['9130.0', '11251.0'],\n",
    "    'non-reactive': ['15599.0', '18755.0', '19327.0', '20205.0'],\n",
    "}"
   ]
  },
  {
   "cell_type": "code",
   "execution_count": null,
   "id": "d212e0cd",
   "metadata": {},
   "outputs": [],
   "source": [
    "adata.obs['avidity_level_hand'] = np.nan\n",
    "adata.obs.loc[adata.obs['score_IFNg_EC50'].notna(), 'avidity_level_hand'] = 'initial_high'\n",
    "adata.obs.loc[adata.obs['clone_id'].isin(initial_tested['low']), 'avidity_level_hand'] = 'initial_low'\n",
    "adata.obs.loc[adata.obs['clone_id'].isin(initial_tested['non-reactive']), 'avidity_level_hand'] = 'initial_non-reactive'\n",
    "adata.obs.loc[adata.obs['clone_id'].isin(new_tested['high']), 'avidity_level_hand'] = 'new_high'\n",
    "adata.obs.loc[adata.obs['clone_id'].isin(new_tested['non-reactive']), 'avidity_level_hand'] = 'new_non-reactive'\n",
    "                        \n",
    "adata.obs['avidity_level_hand'].value_counts()"
   ]
  },
  {
   "cell_type": "code",
   "execution_count": null,
   "id": "af3ee5e9",
   "metadata": {
    "scrolled": true
   },
   "outputs": [],
   "source": [
    "df_tmp = adata.obs.groupby('leiden_CD8')['avidity_level_hand'].value_counts().unstack().fillna(0.0)\n",
    "df_tmp.to_csv('../../results/dextramer/CD8/avidity_level_hand_by_leiden.csv')\n",
    "df_tmp"
   ]
  },
  {
   "cell_type": "code",
   "execution_count": null,
   "id": "05da5452",
   "metadata": {},
   "outputs": [],
   "source": [
    "df_tmp = adata[adata.obs['donor']!='HIM'].obs.groupby('leiden_CD8')['avidity_level_hand'].value_counts().unstack().fillna(0.0)\n",
    "df_tmp.to_csv('../../results/dextramer/CD8/avidity_level_hand_by_leiden_woHIM.csv')\n",
    "df_tmp"
   ]
  },
  {
   "cell_type": "markdown",
   "id": "d0d63f11",
   "metadata": {},
   "source": [
    "### Tables Dex+"
   ]
  },
  {
   "cell_type": "code",
   "execution_count": null,
   "id": "032ae9e6",
   "metadata": {},
   "outputs": [],
   "source": [
    "df_tmp = pd.DataFrame(adata.obs['binding_ct'].value_counts())\n",
    "df_tmp.to_csv('../../results/dextramer/CD8/cellnumbers_binding.csv')\n",
    "df_tmp"
   ]
  },
  {
   "cell_type": "code",
   "execution_count": null,
   "id": "643c7635",
   "metadata": {},
   "outputs": [],
   "source": [
    "pd.DataFrame(adata.obs.groupby('binding_ct')['clone_id'].nunique()).sort_values('clone_id', ascending=False)"
   ]
  },
  {
   "cell_type": "code",
   "execution_count": null,
   "id": "3ed1a342",
   "metadata": {},
   "outputs": [],
   "source": [
    "pd.DataFrame(adata.obs['binding_ct_unmatched'].value_counts())"
   ]
  },
  {
   "cell_type": "code",
   "execution_count": null,
   "id": "85bb950e",
   "metadata": {},
   "outputs": [],
   "source": [
    "pd.DataFrame(adata.obs.groupby('binding_ct_unmatched')['clone_id'].nunique()).sort_values('clone_id', ascending=False)"
   ]
  },
  {
   "cell_type": "markdown",
   "id": "947a55af",
   "metadata": {},
   "source": [
    "## Statistical Testing"
   ]
  },
  {
   "cell_type": "code",
   "execution_count": null,
   "id": "411675d4",
   "metadata": {},
   "outputs": [],
   "source": [
    "import scipy.stats as stats"
   ]
  },
  {
   "cell_type": "code",
   "execution_count": null,
   "id": "1c424ca2",
   "metadata": {},
   "outputs": [],
   "source": [
    "df_tmp = adata[adata.obs['score_IFNg_EC50'].notna()].obs[['score_IFNg_EC50', 'leiden_CD8', 'clone_id']].drop_duplicates()\n",
    "values_cluster5 = df_tmp[df_tmp['leiden_CD8']=='5']['score_IFNg_EC50'].values\n",
    "values_rest = df_tmp[df_tmp['leiden_CD8']!='5']['score_IFNg_EC50'].values\n",
    "stats.mannwhitneyu(values_cluster5, values_rest)"
   ]
  },
  {
   "cell_type": "code",
   "execution_count": null,
   "id": "eff781d5",
   "metadata": {},
   "outputs": [],
   "source": [
    "values_cluster5.shape"
   ]
  },
  {
   "cell_type": "code",
   "execution_count": null,
   "id": "c0963536",
   "metadata": {},
   "outputs": [],
   "source": [
    "values_rest.shape"
   ]
  },
  {
   "cell_type": "code",
   "execution_count": null,
   "id": "5e249f6c",
   "metadata": {},
   "outputs": [],
   "source": [
    "df_tmp = adata[adata.obs['score_IFNg_EC50'].notna()].obs[['score_IFNg_EC50', 'leiden_CD8', 'clone_id']].drop_duplicates()\n",
    "values_cluster3 = df_tmp[df_tmp['leiden_CD8']=='3']['score_IFNg_EC50'].values\n",
    "values_rest = df_tmp[df_tmp['leiden_CD8']!='3']['score_IFNg_EC50'].values\n",
    "stats.mannwhitneyu(values_cluster3, values_rest)"
   ]
  },
  {
   "cell_type": "code",
   "execution_count": null,
   "id": "3744d782",
   "metadata": {},
   "outputs": [],
   "source": [
    "print(df_tmp['score_IFNg_EC50'].mean())\n",
    "df_tmp.groupby('leiden_CD8')['score_IFNg_EC50'].mean()"
   ]
  },
  {
   "cell_type": "code",
   "execution_count": null,
   "id": "c6ac2772",
   "metadata": {},
   "outputs": [],
   "source": [
    "df_tmp"
   ]
  },
  {
   "cell_type": "code",
   "execution_count": null,
   "id": "3e6039d9",
   "metadata": {},
   "outputs": [],
   "source": [
    "import statsmodels.stats.multitest as mt"
   ]
  },
  {
   "cell_type": "code",
   "execution_count": null,
   "id": "49e397f0",
   "metadata": {},
   "outputs": [],
   "source": [
    "df_tmp = adata[adata.obs['log_score_IFNg_EC50'].notna()].obs[['log_score_IFNg_EC50', 'leiden_CD8', 'clone_id']].drop_duplicates()\n",
    "\n",
    "results = {\n",
    "    'leiden_CD8': [],\n",
    "    'shapiro-wikl-normality_group': [],\n",
    "    'shapiro-wikl-normality_background': [],\n",
    "    'levene_homogeneity': [],\n",
    "}\n",
    "for c in df_tmp['leiden_CD8'].unique():\n",
    "    values_cluster = df_tmp[df_tmp['leiden_CD8']==c]['log_score_IFNg_EC50'].values\n",
    "    values_rest = df_tmp[df_tmp['leiden_CD8']!=c]['log_score_IFNg_EC50'].values\n",
    "    \n",
    "    results['leiden_CD8'].append(c)    \n",
    "    results['shapiro-wikl-normality_group'].append(stats.shapiro(values_cluster)[1] if len(values_cluster)> 2 else np.nan)\n",
    "    results['shapiro-wikl-normality_background'].append(stats.shapiro(values_rest)[1])\n",
    "    results['levene_homogeneity'].append(stats.levene(values_cluster, values_rest)[1])\n",
    "    \n",
    "results = pd.DataFrame(results)\n",
    "results"
   ]
  },
  {
   "cell_type": "code",
   "execution_count": null,
   "id": "139174e8",
   "metadata": {},
   "outputs": [],
   "source": [
    "sb.kdeplot(df_tmp['log_score_IFNg_EC50'])"
   ]
  },
  {
   "cell_type": "markdown",
   "id": "21760d95",
   "metadata": {},
   "source": [
    "Assumption of normality of the background data was violated for log transformed scores (un-transformed as well, not shown). Therefore, we conduct Mann-Witney-U-test."
   ]
  },
  {
   "cell_type": "code",
   "execution_count": null,
   "id": "17c3e11b",
   "metadata": {},
   "outputs": [],
   "source": [
    "df_tmp = adata[adata.obs['score_IFNg_EC50'].notna()].obs[['score_IFNg_EC50', 'leiden_CD8', 'clone_id']].drop_duplicates()\n",
    "\n",
    "results = {\n",
    "    'leiden_CD8': [],\n",
    "    'u-stats': [],\n",
    "    'p-values': [],\n",
    "}\n",
    "for c in ['3', '5']: #df_tmp['leiden_CD8'].unique():\n",
    "    values_cluster = df_tmp[df_tmp['leiden_CD8']==c]['score_IFNg_EC50'].values\n",
    "    values_rest = df_tmp[df_tmp['leiden_CD8']!=c]['score_IFNg_EC50'].values\n",
    "    t_stat, pval = stats.mannwhitneyu (values_cluster, values_rest)\n",
    "    \n",
    "    results['leiden_CD8'].append(c)\n",
    "    results['u-stats'].append(t_stat)\n",
    "    results['p-values'].append(pval)\n",
    "\n",
    "    \n",
    "results = pd.DataFrame(results)\n",
    "results = results[results['p-values'].notna()]\n",
    "results['p-values_corr'] = mt.multipletests(results['p-values'].values, alpha=0.05, method='bonferroni')[1]\n",
    "results"
   ]
  },
  {
   "cell_type": "code",
   "execution_count": null,
   "id": "7555fc61",
   "metadata": {},
   "outputs": [],
   "source": [
    "df_tmp['leiden_CD8'].value_counts()"
   ]
  },
  {
   "cell_type": "code",
   "execution_count": null,
   "id": "a10bfeff",
   "metadata": {},
   "outputs": [],
   "source": []
  }
 ],
 "metadata": {
  "kernelspec": {
   "display_name": "Python [conda env:covidVac240624]",
   "language": "python",
   "name": "conda-env-covidVac240624-py"
  },
  "language_info": {
   "codemirror_mode": {
    "name": "ipython",
    "version": 3
   },
   "file_extension": ".py",
   "mimetype": "text/x-python",
   "name": "python",
   "nbconvert_exporter": "python",
   "pygments_lexer": "ipython3",
   "version": "3.8.19"
  }
 },
 "nbformat": 4,
 "nbformat_minor": 5
}
